{
 "cells": [
  {
   "cell_type": "code",
   "execution_count": 1,
   "metadata": {},
   "outputs": [],
   "source": [
    "from sklearn.datasets import make_regression\n",
    "from sklearn import linear_model\n",
    "\n",
    "%matplotlib inline \n",
    "import matplotlib\n",
    "import matplotlib.pyplot as plt\n",
    "\n",
    "import numpy as np\n",
    "import pandas as pd"
   ]
  },
  {
   "cell_type": "code",
   "execution_count": 2,
   "metadata": {},
   "outputs": [],
   "source": [
    "'''\n",
    "Super class for the Gradient Descent Algorithm, which gets initialized with the parameters as\n",
    "\n",
    "iterations - the number of iterations in order to obtain the Global minimum / J(0) / Minimized cost function\n",
    "alpha - learning rate to follow while performing the descend\n",
    "scale [defaulted to False], if set to True this will scale the X with the help of mean and standard deviation\n",
    "verbose [defaulted to False], if set to True this will log details to the console.\n",
    "'''\n",
    "\n",
    "\n",
    "class BGDRegression:\n",
    "    def __init__(self,\n",
    "                 iterations,\n",
    "                 alpha=0.001,\n",
    "                 scale=False,\n",
    "                 verbose=False,\n",
    "                 plot=False):\n",
    "        self._iterations = iterations\n",
    "        self._theta = None\n",
    "        self._cost_history = []\n",
    "        self._alpha = alpha\n",
    "        self._verbose = verbose\n",
    "\n",
    "    '''\n",
    "        Sets the model parametes[theta] using the gradient descent algorithm\n",
    "        \n",
    "        The goal of any Machine Learning Algorithm is to minimize the Cost Function {J(\\theta)}.\n",
    "    '''\n",
    "    def generate_model(self, X, y):\n",
    "        print('Calling Generate Mode of {BGDRegression}')\n",
    "        # Initialize Theta with the number of columns and inclusion of Theat_0\n",
    "        try:\n",
    "            # initialize to 0's [random value should be okay, but i am defaulting to 0]\n",
    "            self._theta = np.matrix(np.zeros(X.shape[1]).T)\n",
    "            for i in range(self._iterations):\n",
    "                self._cost_history.append(\n",
    "                    self.gradient_descent(X, y))\n",
    "        except ValueError as err:\n",
    "            print('Issue Occured while performing the Gradient Descent', err)\n",
    "        return self._theta\n",
    "\n",
    "    '''\n",
    "        //TODO not required as there is already method exists\n",
    "        y = h(x) or f(x) = x1.theta_1 + x2.theta_2 + .... x_m.theta_m\n",
    "    '''\n",
    "    def predict(self, X):\n",
    "        return self.hypothesis(X)\n",
    "\n",
    "    '''\n",
    "        \n",
    "    '''\n",
    "    def gradient_descent(self, X, y):\n",
    "        # Temp matrix to preserve theta during the iterations\n",
    "        temp = np.matrix(np.zeros(self._theta.shape))\n",
    "        features = int(self._theta.ravel().shape[1])\n",
    "\n",
    "        #self._cost_history = np.zeros(self._iterations)\n",
    "        error = self.loss_function(X, y)\n",
    "\n",
    "        # For Every Feature iterate and calculate gradient with the new coefficent\n",
    "        for j in range(features):\n",
    "            # Calculate the graident\n",
    "            gradient = np.multiply(error, X[:, j])\n",
    "\n",
    "            # theta(j) = theta(j) - 1/m(alpha * sum of all (residuals))\n",
    "            temp[0, j] = self._theta[0, j] - (\n",
    "                (self._alpha / len(X)) * np.sum(gradient))\n",
    "\n",
    "        self._theta = temp\n",
    "        return self.cost_function(X, y)\n",
    "\n",
    "    '''\n",
    "        Mean Absolute Error = 1/m * sum of all absolute loss(|pred - y|)\n",
    "    '''\n",
    "    def mae(self, X, y):\n",
    "        mae = (1.0 / len(y)) * np.sum(np.abs(self.loss_function(X, y)))\n",
    "        return mae\n",
    "\n",
    "    '''\n",
    "       Mean Square Error = 1/2 * m sum of all((pred - y)^2)\n",
    "       where m is the population size\n",
    "    '''\n",
    "    def mse(self, X, y):\n",
    "        return self.cost_function(X, y)\n",
    "\n",
    "    '''\n",
    "        A Cost function basically tells us ‘ How Good’ our model is at \n",
    "        making predictions for a given value of m and b.\n",
    "    \n",
    "        Cost j(theta) = 1/2 m * (sigma h(theta) - y )^2\n",
    "    '''\n",
    "    def cost_function(self, X, y):\n",
    "        return self.sum_of_squared_residual(X, y) / (2 * len(X))\n",
    "\n",
    "    '''\n",
    "        Sum of Squared Residuals ie. loss/error function\n",
    "    '''\n",
    "    def sum_of_squared_residual(self, X, y):\n",
    "        return np.sum(np.power(self.loss_function(X, y), 2))\n",
    "\n",
    "    '''\n",
    "        Hypothesis h(x) or f(x) = X * Transpose(theta), where theta is the model parameters\n",
    "    '''\n",
    "    def hypothesis(self, X):\n",
    "        return (X * self._theta.T)\n",
    "\n",
    "    '''\n",
    "        Loss Function : Predicted Value - Actual Value\n",
    "    '''\n",
    "    def loss_function(self, X, y):\n",
    "        return self.hypothesis(X) - y\n",
    "\n",
    "    def get_theta(self):\n",
    "        return self._theta\n",
    "\n",
    "    def __str__(self):\n",
    "        return \"BGDRegression [Iterations :{}, Alpha :{}]\".format(\n",
    "            self._iterations, self._alpha)"
   ]
  },
  {
   "cell_type": "code",
   "execution_count": 3,
   "metadata": {},
   "outputs": [],
   "source": [
    "# Mini Batch algorithm\n",
    "\n",
    "\n",
    "class MBGDRegression(BGDRegression):\n",
    "    # Constructor\n",
    "    def __init__(self,\n",
    "                 iterations,\n",
    "                 alpha=0.001,\n",
    "                 batch_size=50,\n",
    "                 scale=False,\n",
    "                 verbose=False,\n",
    "                 plot=False):\n",
    "        # Super constructor initialization\n",
    "        BGDRegression.__init__(self, iterations, alpha, scale, verbose, plot)\n",
    "        self._batch_size = batch_size\n",
    "\n",
    "    '''\n",
    "        Sets the model parametes[theta] using the gradient descent algorithm\n",
    "        \n",
    "        The goal of any Machine Learning Algorithm is to minimize the Cost Function {J(\\theta)}.\n",
    "    '''\n",
    "    def generate_model(self, X, y):\n",
    "        print('Calling Generate Mode of {MBGDRegression}')\n",
    "        # Initialize Theta with the number of columns and inclusion of Theat_0\n",
    "        try:\n",
    "            # Clear and re-initiate the theta and cost_history\n",
    "            self._theta = np.matrix(np.zeros(X.shape[1]).T)\n",
    "            for it in range(self._iterations):\n",
    "                cost = 0.0\n",
    "                for i in range(0, len(y), self._batch_size):\n",
    "                    #print('i {} , i + batch {}'.format(i, i + self._batch_size))\n",
    "                    X_i = X[i:i + self._batch_size, :]\n",
    "                    y_i = y[i:i + self._batch_size]\n",
    "                    cost += self.gradient_descent(np.matrix(X_i), np.matrix(y_i))\n",
    "                    \n",
    "                self._cost_history.append(cost)\n",
    "        except ValueError as err:\n",
    "            print('Issue Occured while performing the Gradient Descent')\n",
    "            raise\n",
    "        return self._theta"
   ]
  },
  {
   "cell_type": "code",
   "execution_count": 4,
   "metadata": {},
   "outputs": [],
   "source": [
    "'''\n",
    "Sub Class to the BGD Regression\n",
    "'''\n",
    "\n",
    "\n",
    "class SGDRegression(BGDRegression):\n",
    "    # Constructor\n",
    "    def __init__(self,\n",
    "                 iterations,\n",
    "                 alpha=0.001,\n",
    "                 scale=False,\n",
    "                 verbose=False,\n",
    "                 plot=False):\n",
    "        # Super constructor initialization\n",
    "        BGDRegression.__init__(self, iterations, alpha, scale, verbose, plot)\n",
    "\n",
    "    '''\n",
    "        Sets the model parametes[theta] using the gradient descent algorithm\n",
    "        \n",
    "        The goal of any Machine Learning Algorithm is to minimize the Cost Function {J(\\theta)}.\n",
    "    '''\n",
    "    def generate_model(self, X, y):\n",
    "        print('Calling Generate Mode of {SGDRegression}')\n",
    "        # Initialize Theta with the number of columns and inclusion of Theat_0\n",
    "        try:\n",
    "            # Clear and re-initiate the theta and cost_history\n",
    "            self._theta = np.matrix(np.zeros(X.shape[1]).T)\n",
    "            for it in range(self._iterations):\n",
    "                cost = 0.0\n",
    "                for i in range(len(y)):\n",
    "                    rand_ind = np.random.randint(0, len(y)-1)\n",
    "                    X_rand = np.matrix(X[rand_ind, :])\n",
    "                    y_rand = np.matrix(y[rand_ind])\n",
    "                    cost += self.gradient_descent(X_rand, y_rand)\n",
    "\n",
    "                self._cost_history.append(cost)\n",
    "        except ValueError as err:\n",
    "            print('Issue Occured while performing the Gradient Descent', err)\n",
    "        return self._theta"
   ]
  },
  {
   "cell_type": "code",
   "execution_count": 5,
   "metadata": {},
   "outputs": [],
   "source": [
    "def create_data_set(size):\n",
    "    bias = np.random.uniform(-5, 5)\n",
    "    data_noise = np.random.uniform(4, 8)\n",
    "    x_values, y_values = make_regression(n_samples=size, n_features=1, noise=data_noise,\n",
    "                                         bias=bias)\n",
    "\n",
    "    return x_values, y_values.reshape(-1, 1)"
   ]
  },
  {
   "cell_type": "code",
   "execution_count": 6,
   "metadata": {},
   "outputs": [
    {
     "data": {
      "image/png": "[encoded data removed]",
      "text/plain": [
       "<Figure size 432x288 with 1 Axes>"
      ]
     },
     "metadata": {
      "needs_background": "light"
     },
     "output_type": "display_data"
    }
   ],
   "source": [
    "# Generating values 'X' and labels 'y'\n",
    "X, y = create_data_set(999)\n",
    "\n",
    "# Presenting generated data\n",
    "plt.scatter(X, y, s=15)\n",
    "plt.title(\"Plotting Regression Problem Data\")\n",
    "plt.xlabel(\"X values\")\n",
    "plt.ylabel(\"y values\")\n",
    "plt.show()"
   ]
  },
  {
   "cell_type": "code",
   "execution_count": 7,
   "metadata": {},
   "outputs": [],
   "source": [
    "\n",
    "# Random Color generation function used during plotting\n",
    "def get_color():\n",
    "    return np.random.rand(3, )"
   ]
  },
  {
   "cell_type": "code",
   "execution_count": 8,
   "metadata": {},
   "outputs": [],
   "source": [
    "X_withx0 = np.insert(np.matrix(X), 0, 1, axis=1)\n",
    "Y_matrix = np.matrix(y)"
   ]
  },
  {
   "cell_type": "code",
   "execution_count": 9,
   "metadata": {},
   "outputs": [
    {
     "name": "stdout",
     "output_type": "stream",
     "text": [
      "Calling Generate Mode of {BGDRegression}\n",
      "Calling Generate Mode of {MBGDRegression}\n",
      "Calling Generate Mode of {SGDRegression}\n",
      "BGD Theta : [[-1.22623924 40.53423584]]\n",
      "MGBD Theta :  [[-1.33947772 40.93717881]]\n",
      "SGD Theta :  [[ 1.23816767 37.99293195]]\n"
     ]
    }
   ],
   "source": [
    "bgdReg = BGDRegression(100,alpha=0.05, scale=True, verbose=True)\n",
    "mgdbReg = MBGDRegression(10,batch_size=50, alpha=0.05, scale=True, verbose=True)\n",
    "\n",
    "sgd = SGDRegression(100,alpha=0.05, scale=True, verbose=True)\n",
    "\n",
    "bgdReg.generate_model(X_withx0, Y_matrix)\n",
    "mgdbReg.generate_model(X_withx0, Y_matrix)\n",
    "sgd.generate_model(X_withx0, Y_matrix)\n",
    "\n",
    "print('BGD Theta :',bgdReg.get_theta())\n",
    "print('MGBD Theta : ', mgdbReg.get_theta())\n",
    "print('SGD Theta : ', sgd.get_theta())"
   ]
  },
  {
   "cell_type": "code",
   "execution_count": 10,
   "metadata": {},
   "outputs": [
    {
     "name": "stdout",
     "output_type": "stream",
     "text": [
      "BGD MSE:  24.522772292495972\n",
      "MBGD MSE:  24.47937319912587\n",
      "SGD MSE:  31.394920893372955\n"
     ]
    }
   ],
   "source": [
    "print('BGD MSE: ',bgdReg.mse(X_withx0, Y_matrix))\n",
    "print('MBGD MSE: ',mgdbReg.mse(X_withx0, Y_matrix))\n",
    "print('SGD MSE: ',sgd.mse(X_withx0, Y_matrix))\n"
   ]
  },
  {
   "cell_type": "code",
   "execution_count": 11,
   "metadata": {},
   "outputs": [
    {
     "data": {
      "image/png": "[encoded data removed]",
      "text/plain": [
       "<Figure size 432x288 with 1 Axes>"
      ]
     },
     "metadata": {
      "needs_background": "light"
     },
     "output_type": "display_data"
    },
    {
     "data": {
      "image/png": "[encoded data removed]",
      "text/plain": [
       "<Figure size 432x288 with 1 Axes>"
      ]
     },
     "metadata": {
      "needs_background": "light"
     },
     "output_type": "display_data"
    },
    {
     "data": {
      "image/png": "[encoded data removed]",
      "text/plain": [
       "<Figure size 432x288 with 1 Axes>"
      ]
     },
     "metadata": {
      "needs_background": "light"
     },
     "output_type": "display_data"
    }
   ],
   "source": [
    "plt.scatter(range(len(bgdReg._cost_history)),\n",
    "            bgdReg._cost_history,\n",
    "            color=get_color(),\n",
    "            label='BGD')\n",
    "\n",
    "plt.xlabel(\"$Iterations$\", fontsize=18)\n",
    "plt.ylabel(\"$J(0)$\", rotation=0, fontsize=18)\n",
    "plt.show()\n",
    "\n",
    "plt.scatter(range(len(mgdbReg._cost_history)),\n",
    "            mgdbReg._cost_history,\n",
    "            color=get_color(),\n",
    "            label='MBGD')\n",
    "\n",
    "plt.xlabel(\"$Iterations$\", fontsize=18)\n",
    "plt.ylabel(\"$J(0)$\", rotation=0, fontsize=18)\n",
    "plt.show()\n",
    "\n",
    "\n",
    "plt.scatter(range(len(sgd._cost_history)),\n",
    "            sgd._cost_history,\n",
    "            color=get_color(),\n",
    "            label='MBGD')\n",
    "\n",
    "plt.xlabel(\"$Iterations$\", fontsize=18)\n",
    "plt.ylabel(\"$J(0)$\", rotation=0, fontsize=18)\n",
    "plt.show()"
   ]
  },
  {
   "cell_type": "code",
   "execution_count": 12,
   "metadata": {},
   "outputs": [
    {
     "name": "stdout",
     "output_type": "stream",
     "text": [
      "BGD R^2 :  0.9697443437284367\n",
      "MGBD R^2 :  0.9697978885738497\n",
      "SGBD R^2 :  0.9612656381630441\n"
     ]
    }
   ],
   "source": [
    "from sklearn.metrics import r2_score\n",
    "print(\"BGD R^2 : \", r2_score(Y_matrix, bgdReg.predict(X_withx0)))\n",
    "\n",
    "print(\"MGBD R^2 : \", r2_score(Y_matrix, mgdbReg.predict(X_withx0)))\n",
    "\n",
    "print(\"SGBD R^2 : \", r2_score(Y_matrix, sgd.predict(X_withx0)))"
   ]
  },
  {
   "cell_type": "code",
   "execution_count": null,
   "metadata": {},
   "outputs": [],
   "source": []
  }
 ],
 "metadata": {
  "kernelspec": {
   "display_name": "Python 3",
   "language": "python",
   "name": "python3"
  },
  "language_info": {
   "codemirror_mode": {
    "name": "ipython",
    "version": 3
   },
   "file_extension": ".py",
   "mimetype": "text/x-python",
   "name": "python",
   "nbconvert_exporter": "python",
   "pygments_lexer": "ipython3",
   "version": "3.7.6"
  },
  "toc": {
   "base_numbering": 1,
   "nav_menu": {},
   "number_sections": true,
   "sideBar": true,
   "skip_h1_title": false,
   "title_cell": "Table of Contents",
   "title_sidebar": "Contents",
   "toc_cell": false,
   "toc_position": {},
   "toc_section_display": true,
   "toc_window_display": false
  }
 },
 "nbformat": 4,
 "nbformat_minor": 4
}
