{
 "cells": [
  {
   "cell_type": "code",
   "execution_count": 1,
   "metadata": {},
   "outputs": [],
   "source": [
    "from sklearn.datasets import make_regression\n",
    "from sklearn import linear_model\n",
    "\n",
    "%matplotlib inline \n",
    "import matplotlib\n",
    "import matplotlib.pyplot as plt\n",
    "\n",
    "import numpy as np\n",
    "import pandas as pd"
   ]
  },
  {
   "cell_type": "code",
   "execution_count": 2,
   "metadata": {},
   "outputs": [],
   "source": [
    "'''\n",
    "Super class for the Gradient Descent Algorithm, which gets initialized with the parameters as\n",
    "\n",
    "iterations - the number of iterations in order to obtain the Global minimum / J(0) / Minimized cost function\n",
    "alpha - learning rate to follow while performing the descend\n",
    "scale [defaulted to False], if set to True this will scale the X with the help of mean and standard deviation\n",
    "verbose [defaulted to False], if set to True this will log details to the console.\n",
    "'''\n",
    "\n",
    "\n",
    "class BGDRegression:\n",
    "    def __init__(self,\n",
    "                 iterations,\n",
    "                 alpha=0.001,\n",
    "                 scale=False,\n",
    "                 verbose=False,\n",
    "                 plot=False):\n",
    "        self._iterations = iterations\n",
    "        self._theta = None\n",
    "        self._cost_history = []\n",
    "        self._alpha = alpha\n",
    "        self._verbose = verbose\n",
    "\n",
    "    '''\n",
    "        Sets the model parametes[theta] using the gradient descent algorithm\n",
    "        \n",
    "        The goal of any Machine Learning Algorithm is to minimize the Cost Function {J(\\theta)}.\n",
    "    '''\n",
    "\n",
    "    def generate_model(self, X, y):\n",
    "        # Initialize Theta with the number of columns and inclusion of Theat_0\n",
    "        try:\n",
    "            # initialize to 0's [random value should be okay, but i am defaulting to 0]\n",
    "            self._theta = np.matrix(np.zeros(X.shape[1]).T)\n",
    "            self._cost_history = []\n",
    "            for i in range(self._iterations):\n",
    "                cost = self.gradient_descent(\n",
    "                    X, y, self._alpha)\n",
    "                #print('Cost for iteration {} is {} and theta {} .'.format(i, cost, self._theta))\n",
    "                self._cost_history.append(cost)\n",
    "                \n",
    "        except ValueError as err:\n",
    "            print(\n",
    "                'Issue Occured while performing the Gradient Descent',\n",
    "                err)\n",
    "        return self._theta\n",
    "\n",
    "    '''\n",
    "        //TODO not required as there is already method exists\n",
    "        y = h(x) or f(x) = x1.theta_1 + x2.theta_2 + .... x_m.theta_m\n",
    "    '''\n",
    "\n",
    "    def predict(self, X):\n",
    "        return self.hypothesis(X)\n",
    "\n",
    "    '''\n",
    "        \n",
    "    '''\n",
    "\n",
    "    def gradient_descent(self, X, y, alpha):\n",
    "\n",
    "        # Temp matrix to preserve theta during the iterations\n",
    "        temp = np.matrix(np.zeros(self._theta.shape))\n",
    "        features = int(self._theta.ravel().shape[1])\n",
    "        \n",
    "        #self._cost_history = np.zeros(self._iterations)\n",
    "        error = self.loss_function(X, y)\n",
    "        \n",
    "        # For Every Feature iterate and calculate gradient with the new coefficent\n",
    "        for j in range(features):\n",
    "            # Calculate the graident\n",
    "            gradient = np.multiply(error, X[:, j])\n",
    "\n",
    "            # theta(j) = theta(j) - 1/m(alpha * sum of all (residuals))\n",
    "            temp[0, j] = self._theta[0, j] - (\n",
    "                (self._alpha / len(X)) * np.sum(gradient))\n",
    "\n",
    "        self._theta = temp\n",
    "        return self.cost_function(X, y)\n",
    "\n",
    "    '''\n",
    "        Mean Absolute Error = 1/m * sum of all absolute loss(|pred - y|)\n",
    "    '''\n",
    "\n",
    "    def mae(self, X, y):\n",
    "        mae = (1.0 / len(y)) * np.sum(np.abs(self.loss_function(X, y)))\n",
    "        return mae\n",
    "\n",
    "    '''\n",
    "       Mean Square Error = 1/2 * m sum of all((pred - y)^2)\n",
    "       where m is the population size\n",
    "    '''\n",
    "\n",
    "    def mse(self, X, y):\n",
    "        return self.cost_function(X, y)\n",
    "\n",
    "    '''\n",
    "        A Cost function basically tells us ‘ How Good’ our model is at \n",
    "        making predictions for a given value of m and b.\n",
    "    \n",
    "        Cost j(theta) = 1/2 m * (sigma h(theta) - y )^2\n",
    "    '''\n",
    "\n",
    "    def cost_function(self, X, y):\n",
    "        return self.sum_of_squared_residual(X, y) / (2 * len(X))\n",
    "\n",
    "    '''\n",
    "        Sum of Squared Residuals ie. loss/error function\n",
    "    '''\n",
    "\n",
    "    def sum_of_squared_residual(self, X, y):\n",
    "        return np.sum(np.power(self.loss_function(X, y), 2))\n",
    "\n",
    "    '''\n",
    "        Hypothesis h(x) or f(x) = X * Transpose(theta), where theta is the model parameters\n",
    "    '''\n",
    "\n",
    "    def hypothesis(self, X):\n",
    "        return (X * self._theta.T)\n",
    "\n",
    "    '''\n",
    "        Loss Function : Predicted Value - Actual Value\n",
    "    '''\n",
    "\n",
    "    def loss_function(self, X, y):\n",
    "        return self.hypothesis(X) - y"
   ]
  },
  {
   "cell_type": "code",
   "execution_count": 3,
   "metadata": {},
   "outputs": [],
   "source": [
    "def create_data_set(size):\n",
    "    bias = np.random.uniform(-5, 5)\n",
    "    data_noise = np.random.uniform(4, 8)\n",
    "    x_values, y_values = make_regression(n_samples=size, n_features=1, noise=data_noise,\n",
    "                                         bias=bias)\n",
    "\n",
    "    return x_values, y_values.reshape(-1, 1)"
   ]
  },
  {
   "cell_type": "code",
   "execution_count": 4,
   "metadata": {},
   "outputs": [
    {
     "data": {
      "image/png": "[encoded data removed]",
      "text/plain": [
       "<Figure size 432x288 with 1 Axes>"
      ]
     },
     "metadata": {
      "needs_background": "light"
     },
     "output_type": "display_data"
    }
   ],
   "source": [
    "# Generating values 'X' and labels 'y'\n",
    "X, y = create_data_set(1000)\n",
    "\n",
    "# Presenting generated data\n",
    "plt.scatter(X, y, s=15)\n",
    "plt.title(\"Plotting Regression Problem Data\")\n",
    "plt.xlabel(\"X values\")\n",
    "plt.ylabel(\"y values\")\n",
    "plt.show()"
   ]
  },
  {
   "cell_type": "code",
   "execution_count": 5,
   "metadata": {},
   "outputs": [],
   "source": [
    "iterations = 10000"
   ]
  },
  {
   "cell_type": "code",
   "execution_count": 6,
   "metadata": {},
   "outputs": [
    {
     "name": "stdout",
     "output_type": "stream",
     "text": [
      "[[-4.68699137 74.36530667]]\n"
     ]
    }
   ],
   "source": [
    "X_withx0 = np.insert(np.matrix(X), 0, 1, axis=1)\n",
    "Y_matrix = np.matrix(y)\n",
    "\n",
    "linear_regression_model = BGDRegression(iterations, scale=True, verbose=True)\n",
    "linear_regression_model.generate_model(X_withx0, Y_matrix)\n",
    "print(linear_regression_model._theta)"
   ]
  },
  {
   "cell_type": "code",
   "execution_count": 7,
   "metadata": {},
   "outputs": [
    {
     "name": "stdout",
     "output_type": "stream",
     "text": [
      "12.079602989635529\n"
     ]
    }
   ],
   "source": [
    "print(linear_regression_model.mse(X_withx0, Y_matrix))"
   ]
  },
  {
   "cell_type": "code",
   "execution_count": 8,
   "metadata": {},
   "outputs": [
    {
     "data": {
      "text/plain": [
       "Text(0, 0.5, '$J(0)$')"
      ]
     },
     "execution_count": 8,
     "metadata": {},
     "output_type": "execute_result"
    },
    {
     "data": {
      "image/png": "[encoded data removed]",
      "text/plain": [
       "<Figure size 432x288 with 1 Axes>"
      ]
     },
     "metadata": {
      "needs_background": "light"
     },
     "output_type": "display_data"
    }
   ],
   "source": [
    "# Random Color generation function used during plotting\n",
    "def get_color():\n",
    "    return np.random.rand(3, )\n",
    "\n",
    "plt.scatter(range(len(linear_regression_model._cost_history)), linear_regression_model._cost_history, color=get_color(), label='J(0)')\n",
    "plt.xlabel(\"$Iterations$\", fontsize=18)\n",
    "plt.ylabel(\"$J(0)$\", rotation=0, fontsize=18)"
   ]
  },
  {
   "cell_type": "code",
   "execution_count": 9,
   "metadata": {},
   "outputs": [
    {
     "name": "stdout",
     "output_type": "stream",
     "text": [
      "R^2 :  0.9959841140707754\n"
     ]
    }
   ],
   "source": [
    "from sklearn.metrics import r2_score\n",
    "print(\"R^2 : \", r2_score(Y_matrix, linear_regression_model.predict(X_withx0)))"
   ]
  },
  {
   "cell_type": "code",
   "execution_count": 10,
   "metadata": {},
   "outputs": [
    {
     "name": "stdout",
     "output_type": "stream",
     "text": [
      "[[-7.90527671e-18  2.11288702e-01  2.10977984e-01  2.08100145e-01\n",
      "   1.53057080e-01  2.01520928e-01]]\n"
     ]
    }
   ],
   "source": [
    "bagdata = pd.read_csv(r'Data_Multivariate.csv')\n",
    "learning_rate = 0.01\n",
    "iterations = 1000\n",
    "\n",
    "bagdata = (bagdata - bagdata.mean()) / bagdata.std()\n",
    "\n",
    "mv_y = bagdata.iloc[:, 0:1]\n",
    "\n",
    "# add ones column\n",
    "mv_x = np.c_[np.ones(bagdata.shape[0]),bagdata.iloc[:,1:]]\n",
    "linear_regression_model = BGDRegression(iterations, scale=True, verbose=True)\n",
    "\n",
    "linear_regression_model.generate_model(np.matrix(mv_x), np.matrix(mv_y))\n",
    "print(linear_regression_model._theta)"
   ]
  },
  {
   "cell_type": "code",
   "execution_count": 11,
   "metadata": {},
   "outputs": [
    {
     "name": "stdout",
     "output_type": "stream",
     "text": [
      "R^2 :  0.8803085670022534\n"
     ]
    }
   ],
   "source": [
    "print(\"R^2 : \", r2_score(mv_y, linear_regression_model.predict(mv_x)))"
   ]
  },
  {
   "cell_type": "code",
   "execution_count": 12,
   "metadata": {},
   "outputs": [
    {
     "data": {
      "text/plain": [
       "Text(0, 0.5, '$J(0)$')"
      ]
     },
     "execution_count": 12,
     "metadata": {},
     "output_type": "execute_result"
    },
    {
     "data": {
      "image/png": "[encoded data removed]",
      "text/plain": [
       "<Figure size 432x288 with 1 Axes>"
      ]
     },
     "metadata": {
      "needs_background": "light"
     },
     "output_type": "display_data"
    }
   ],
   "source": [
    "plt.scatter(range(len(linear_regression_model._cost_history)), linear_regression_model._cost_history, color=get_color(), label='J(0)')\n",
    "plt.xlabel(\"$Iterations$\", fontsize=18)\n",
    "plt.ylabel(\"$J(0)$\", rotation=0, fontsize=18)"
   ]
  },
  {
   "cell_type": "code",
   "execution_count": null,
   "metadata": {},
   "outputs": [],
   "source": []
  }
 ],
 "metadata": {
  "kernelspec": {
   "display_name": "Python 3",
   "language": "python",
   "name": "python3"
  },
  "language_info": {
   "codemirror_mode": {
    "name": "ipython",
    "version": 3
   },
   "file_extension": ".py",
   "mimetype": "text/x-python",
   "name": "python",
   "nbconvert_exporter": "python",
   "pygments_lexer": "ipython3",
   "version": "3.7.6"
  },
  "toc": {
   "base_numbering": 1,
   "nav_menu": {},
   "number_sections": true,
   "sideBar": true,
   "skip_h1_title": false,
   "title_cell": "Table of Contents",
   "title_sidebar": "Contents",
   "toc_cell": false,
   "toc_position": {},
   "toc_section_display": true,
   "toc_window_display": false
  }
 },
 "nbformat": 4,
 "nbformat_minor": 4
}
