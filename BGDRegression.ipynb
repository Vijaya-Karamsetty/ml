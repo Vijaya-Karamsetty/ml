{
 "cells": [
  {
   "cell_type": "code",
   "execution_count": 25,
   "metadata": {},
   "outputs": [],
   "source": [
    "from sklearn.datasets import make_regression\n",
    "from sklearn import linear_model\n",
    "\n",
    "%matplotlib inline \n",
    "import matplotlib\n",
    "import matplotlib.pyplot as plt\n",
    "\n",
    "import numpy as np"
   ]
  },
  {
   "cell_type": "code",
   "execution_count": 35,
   "metadata": {},
   "outputs": [],
   "source": [
    "'''\n",
    "Super class for the Gradient Descent Algorithm, which gets initialized with the parameters as\n",
    "\n",
    "iterations - the number of iterations in order to obtain the Global minimum / J(0) / Minimized cost function\n",
    "alpha - learning rate to follow while performing the descend\n",
    "scale [defaulted to False], if set to True this will scale the X with the help of mean and standard deviation\n",
    "verbose [defaulted to False], if set to True this will log details to the console.\n",
    "'''\n",
    "\n",
    "\n",
    "class BGDRegression:\n",
    "    def __init__(self,\n",
    "                 iterations,\n",
    "                 alpha=0.001,\n",
    "                 scale=False,\n",
    "                 verbose=False,\n",
    "                 plot=False):\n",
    "        self._iterations = iterations\n",
    "        self._theta = None\n",
    "        self._cost_history = None\n",
    "        self._alpha = alpha\n",
    "        self._verbose = verbose\n",
    "\n",
    "    '''\n",
    "        Sets the model parametes[theta] using the gradient descent algorithm\n",
    "    '''\n",
    "    def generate_model(self, X, y):\n",
    "\n",
    "        # Add feature_0 which is 1 always to the features matrix\n",
    "        X = np.insert(X, 0, 1, axis=1)\n",
    "\n",
    "        #Initialize Theta with the number of columns and inclusion of Theat_0\n",
    "        self._theta = np.matrix(np.zeros(X.shape[1]).T)\n",
    "\n",
    "        # Temp matrix to preserve theta during the iterations\n",
    "        temp = np.matrix(np.zeros(self._theta.shape))\n",
    "        features = int(self._theta.ravel().shape[1])\n",
    "\n",
    "        # Initiate the cost history to store during the iterations\n",
    "        self._cost_history = np.zeros(self._iterations)\n",
    "\n",
    "        for i in range(iterations):\n",
    "            error = self.loss_function(X, y)\n",
    "\n",
    "            for j in range(features):\n",
    "                #Calculate the graident\n",
    "                term = np.multiply(error, X[:, j])\n",
    "                temp[0, j] = self._theta[0, j] - (\n",
    "                    (self._alpha / len(X)) * np.sum(term))\n",
    "\n",
    "            self._theta = temp\n",
    "            self._cost_history[i] = self.cost_function(X, y)\n",
    "        return self._theta, self._cost_history\n",
    "\n",
    "    '''\n",
    "        //TODO not required as there is already method exists\n",
    "        y = h(x) or f(x) = x1.theta_1 + x2.theta_2 + .... x_m.theta_m\n",
    "    '''\n",
    "    def predict(self, X):\n",
    "        return self.hypothesis(X)\n",
    "\n",
    "    '''\n",
    "        Mean Absolute Error = 1/m * sum of all(|pred - y|)\n",
    "    '''\n",
    "    def mae(self, X, y):\n",
    "        pred = self.hypothesis(X)\n",
    "        mae = (1.0 / len(yhat_m)) * np.sum(np.abs(pred - y))\n",
    "        return mae\n",
    "\n",
    "    '''\n",
    "       Mean Square Error = 1/2 * m sum of all((pred - y)^2)\n",
    "       where m is the population size\n",
    "    '''\n",
    "    def mse(self, X, y):\n",
    "        pred = self.hypothesis(X)\n",
    "        mse = (1 / (2 * len(X))) * np.sum(np.square(pred - y))\n",
    "        return mse\n",
    "\n",
    "    '''\n",
    "        Cost j(theta) = 1/2 m * (sigma h(theta) - y )^2\n",
    "    '''\n",
    "    def cost_function(self, X, y):\n",
    "        return np.sum(np.power(self.loss_function(X, y), 2)) / (2 * len(X))\n",
    "\n",
    "    '''\n",
    "        Hypothesis h(x) or f(x) = X * Transpose(theta), where theta is the model parameters\n",
    "    '''\n",
    "    def hypothesis(self, X):\n",
    "        return (X * self._theta.T)\n",
    "\n",
    "    '''\n",
    "        Loss Function : Predicted Value - Actual Value\n",
    "    '''\n",
    "    def loss_function(self, X, y):\n",
    "        return self.hypothesis(X) - y\n",
    "    "
   ]
  },
  {
   "cell_type": "code",
   "execution_count": 27,
   "metadata": {},
   "outputs": [],
   "source": [
    "DATA_NUM = 1000"
   ]
  },
  {
   "cell_type": "code",
   "execution_count": 28,
   "metadata": {},
   "outputs": [],
   "source": [
    "def generate_linear_regression_problem(samples_num):\n",
    "    \"\"\"Function that uses 'make_regression' of sklearn as a core. It's purpose it to \n",
    "    generate point that can be aproximated by linear function. Returns tuple of data \n",
    "    and it's labels.\n",
    "    \n",
    "    Arguments:\n",
    "    ---------\n",
    "    samples_num: int\n",
    "        Numer of points that should be generated.\n",
    "    \"\"\"\n",
    "    bias = np.random.uniform(-5, 5)\n",
    "    data_noise = np.random.uniform(4, 8)\n",
    "    x_values, y_values = make_regression(n_samples=samples_num, n_features=1, noise=data_noise, \n",
    "                                         bias=bias)\n",
    "    \n",
    "    return x_values, y_values.reshape(-1, 1)"
   ]
  },
  {
   "cell_type": "code",
   "execution_count": 34,
   "metadata": {},
   "outputs": [
    {
     "data": {
      "image/png": "[encoded data removed]",
      "text/plain": [
       "<Figure size 432x288 with 1 Axes>"
      ]
     },
     "metadata": {
      "needs_background": "light"
     },
     "output_type": "display_data"
    }
   ],
   "source": [
    "# Generating values 'X' and labels 'y'\n",
    "X, y = generate_linear_regression_problem(DATA_NUM)\n",
    "\n",
    "# Presenting generated data\n",
    "plt.scatter(X, y, s=15)\n",
    "plt.title(\"Linear Regression Problem to fit\")\n",
    "plt.xlabel(\"X values\")\n",
    "plt.ylabel(\"y values\")\n",
    "plt.show()"
   ]
  },
  {
   "cell_type": "code",
   "execution_count": 38,
   "metadata": {},
   "outputs": [],
   "source": [
    "iterations = 10000"
   ]
  },
  {
   "cell_type": "code",
   "execution_count": 39,
   "metadata": {},
   "outputs": [
    {
     "name": "stdout",
     "output_type": "stream",
     "text": [
      "[[-1.220168 15.158461]]\n"
     ]
    }
   ],
   "source": [
    "linear_regression_model = BGDRegression(iterations, scale=True, verbose=True)\n",
    "linear_regression_model.generate_model(np.matrix(X), np.matrix(y))\n",
    "print(linear_regression_model._theta)"
   ]
  },
  {
   "cell_type": "code",
   "execution_count": 40,
   "metadata": {},
   "outputs": [
    {
     "name": "stdout",
     "output_type": "stream",
     "text": [
      "16.153787654165345\n"
     ]
    }
   ],
   "source": [
    "print(linear_regression_model.mse(np.insert(np.matrix(X), 0, 1, axis=1), np.matrix(y)))"
   ]
  },
  {
   "cell_type": "code",
   "execution_count": 41,
   "metadata": {},
   "outputs": [
    {
     "data": {
      "text/plain": [
       "Text(0, 0.5, '$J(0)$')"
      ]
     },
     "execution_count": 41,
     "metadata": {},
     "output_type": "execute_result"
    },
    {
     "data": {
      "image/png": "[encoded data removed]",
      "text/plain": [
       "<Figure size 432x288 with 1 Axes>"
      ]
     },
     "metadata": {
      "needs_background": "light"
     },
     "output_type": "display_data"
    }
   ],
   "source": [
    "# Random Color generation function used during plotting\n",
    "def get_color():\n",
    "    return np.random.rand(3, )\n",
    "\n",
    "plt.scatter(range(iterations), linear_regression_model._cost_history, color=get_color(), label='J(0)')\n",
    "plt.xlabel(\"$Iterations$\", fontsize=18)\n",
    "plt.ylabel(\"$J(0)$\", rotation=0, fontsize=18)"
   ]
  },
  {
   "cell_type": "code",
   "execution_count": 42,
   "metadata": {},
   "outputs": [
    {
     "name": "stdout",
     "output_type": "stream",
     "text": [
      "R^2 :  0.8725615752931121\n"
     ]
    }
   ],
   "source": [
    "from sklearn.metrics import r2_score\n",
    "print(\"R^2 : \", r2_score(y, linear_regression_model.predict(np.insert(np.matrix(X), 0, 1, axis=1))))"
   ]
  },
  {
   "cell_type": "code",
   "execution_count": null,
   "metadata": {},
   "outputs": [],
   "source": []
  }
 ],
 "metadata": {
  "kernelspec": {
   "display_name": "Python 3",
   "language": "python",
   "name": "python3"
  },
  "language_info": {
   "codemirror_mode": {
    "name": "ipython",
    "version": 3
   },
   "file_extension": ".py",
   "mimetype": "text/x-python",
   "name": "python",
   "nbconvert_exporter": "python",
   "pygments_lexer": "ipython3",
   "version": "3.7.6"
  },
  "toc": {
   "base_numbering": 1,
   "nav_menu": {},
   "number_sections": true,
   "sideBar": true,
   "skip_h1_title": false,
   "title_cell": "Table of Contents",
   "title_sidebar": "Contents",
   "toc_cell": false,
   "toc_position": {},
   "toc_section_display": true,
   "toc_window_display": false
  }
 },
 "nbformat": 4,
 "nbformat_minor": 4
}
