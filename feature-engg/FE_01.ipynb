{
 "cells": [
  {
   "cell_type": "markdown",
   "metadata": {},
   "source": [
    "## Problem Statement\n",
    "\n",
    "The data files Bollywood.csv and Bollywood - 2 .csv contains the box office collection and social media promotion information about the movies released in 2013 – 2015 period. \n",
    "Following is the information about the columns (names can vary):\n",
    "•\tSerial Id of movie\n",
    "•\tRelease date of movie\n",
    "•\tRelease time of movie like Long Weekend (3), Festive Season (1), Holiday Season (2), and Normal (4)\n",
    "•\tGenre of movie like Romance, Thriller, Action, comedy etc.\n",
    "•\tBudget of movie in crores\n",
    "•\tBox office collection of movie in crore\n",
    "•\tYouTube views of movies trailers\n",
    "•\tYouTube likes for the movie trailers\n",
    "•\tYouTube dislikes for the movie trailers\n",
    "\n",
    "Q1. Identify and rectify the eight prominent data quality issues present in the given datasets.                                                                                                                                    [4]\n",
    "\n",
    "Q2. How many records are present in the dataset? Print the metadata information of dataset. \t\t\t\t\t\t\t\t\t\t\t    [0.5]\n",
    "\n",
    "Q3. How many movies in each genre got released in different release times?                  [0.5]\n",
    "\n",
    "Q4. Which month of the year, maximum movie releases are seen?                                  [1]\n",
    "\n",
    "Q5. Which month of the year typically sees most releases of high budgeted movies, that is, movies with budget of 25 crore or more?                                                                          [1]\n",
    "\n",
    "Q6. Which are the top 10 movies with maximum return of investment (ROI)? Calculate ROI as (Box office collection – Budget) / Budget.                                                                      [1]"
   ]
  },
  {
   "cell_type": "code",
   "execution_count": 289,
   "metadata": {},
   "outputs": [],
   "source": [
    "# Imports for the Execution\n",
    "\n",
    "from sklearn.datasets import make_regression\n",
    "from sklearn import linear_model\n",
    "from sklearn.metrics import mean_squared_error, r2_score\n",
    "from sklearn.preprocessing import StandardScaler\n",
    "from scipy import stats\n",
    "from scipy.stats import mode\n",
    "from IPython.core.display import HTML\n",
    "\n",
    "%matplotlib inline\n",
    "import matplotlib\n",
    "import matplotlib.pyplot as plt\n",
    "\n",
    "import numpy as np\n",
    "import sys\n",
    "import os\n",
    "import math\n",
    "import enum\n",
    "\n",
    "import pandas as pd\n",
    "import seaborn as sb\n",
    "import sklearn.model_selection as model_selection\n",
    "\n",
    "sb.set(style=\"darkgrid\")\n",
    "# Defining the display of generated image in the centre of the page.\n",
    "HTML(\"\"\"\n",
    "<style>\n",
    ".output_png {\n",
    "    display: table-cell;\n",
    "    text-align: center;\n",
    "    vertical-align: middle;\n",
    "}\n",
    "</style>\n",
    "\"\"\")\n",
    "\n",
    "#Scalar fit Transformation Class [note: will try using the mean and std for normalization]\n",
    "scaler = StandardScaler()\n",
    "\n",
    "#Initiate two data sets\n",
    "\n",
    "b1 = pd.read_csv('bollywood.csv')\n",
    "b2 = pd.read_csv('bollywood - 2.csv')\n",
    "\n",
    "\n",
    "class ReleaseWindow(enum.Enum):\n",
    "    FS = 1\n",
    "    HS = 2\n",
    "    LW = 3\n",
    "    N = 4\n",
    "\n",
    "\n",
    "def get_color():\n",
    "    rgd = np.random.rand(3, )\n",
    "    # if self._verbose:\n",
    "    #    print('Obtained Color RGD[{}]'.format(rgd))\n",
    "    return rgd\n",
    "\n",
    "\n",
    "# Takes Boolean as input and prints a 80 charecter line of '='\n",
    "def print_line(verbose):\n",
    "    if verbose:\n",
    "        print(\"\".center(80, '='))"
   ]
  },
  {
   "cell_type": "code",
   "execution_count": 290,
   "metadata": {},
   "outputs": [],
   "source": [
    "# DataQualityAnalyzer [MissingValueCheck=True, NoiseCheck=True, OutlierCheck=True]\n",
    "class DataQualityAnalyzer:\n",
    "    def __init__(self,\n",
    "                 missing_value_check=True,\n",
    "                 duplicate_data_check=True,\n",
    "                 noise_data_check=True,\n",
    "                 invalid_inconsistent_check=True,\n",
    "                 outlier_check=True,\n",
    "                 verbose=False,\n",
    "                 plot=True):\n",
    "        self._missing_value_check = missing_value_check\n",
    "        self._duplicate_data_check = duplicate_data_check\n",
    "        self._noise_data_check = noise_data_check\n",
    "        self._invalid_inconsistent_check = invalid_inconsistent_check\n",
    "        self._outlier_check = outlier_check,\n",
    "        self._verbose = verbose,\n",
    "        self._plot = plot\n",
    "        if self._verbose:\n",
    "            print('Class Initialized :{}'.format(self))\n",
    "\n",
    "    #Performing the Data Quality Analysis on the terms of Missing Values\n",
    "    def check_data_quality(self, file_name, data_set, _duplicate_col_list,\n",
    "                           _column_pattern_dict):\n",
    "\n",
    "        #Missing Value Check\n",
    "        if self._missing_value_check:\n",
    "            nlist = self.check_null(data_set)\n",
    "            print_line(self._verbose)\n",
    "            print(\"Missing Values persent for the Dataset {}: \".format(\n",
    "                file_name))\n",
    "            if len(nlist) > 0:\n",
    "                print_line(self._verbose)\n",
    "                print(nlist)\n",
    "                print_line(self._verbose)\n",
    "            else:\n",
    "                print_line(self._verbose)\n",
    "                print('None')\n",
    "\n",
    "        # Duplicate Check\n",
    "        if self._duplicate_data_check:\n",
    "            print_line(self._verbose)\n",
    "            print(\n",
    "                \"Duplicated values present in the Dataset {} with Columns for Duplicate Check[{}]: \"\n",
    "                .format(file_name, _duplicate_col_list))\n",
    "            duplicated_rows = data_set[data_set.duplicated(\n",
    "                _duplicate_col_list)]\n",
    "\n",
    "            print_line(self._verbose)\n",
    "            print('No of Duplicate Rows present in the Data set {}'.format(\n",
    "                duplicated_rows.shape[0]))\n",
    "\n",
    "        #Noise Check {ColumnName: [data_type, pattern_check:]}\n",
    "        if self._noise_data_check:\n",
    "            print_line(self._verbose)\n",
    "            print('Noise check for the Dataset'.center(80, ' '))\n",
    "\n",
    "        if self._invalid_inconsistent_check:\n",
    "            print()\n",
    "\n",
    "        if self._outlier_check:\n",
    "            print_line(self._verbose)\n",
    "            print('Outliers present in the dataset'.center(80, ' '))\n",
    "            print_line(self._verbose)\n",
    "            self.check_outliers(data_set)\n",
    "\n",
    "    # Performing the Missing value Check\n",
    "\n",
    "    def check_null(self, data_set):\n",
    "        null_list = data_set.isnull().sum()\n",
    "        return null_list[null_list != 0]\n",
    "\n",
    "    '''\n",
    "        Box Plots everything into one Plot so the outliers can be viewed\n",
    "    '''\n",
    "\n",
    "    # [Copied from the EDA of Regression Course]\n",
    "    def box_plot_all(self, data_set):\n",
    "        #data_set = self.scale_data(data_set)\n",
    "        sb.boxplot(data=data_set, orient='h', palette=\"Set2\")\n",
    "        plt.show()\n",
    "\n",
    "    def scale_data(self, data_set):\n",
    "        return (data_set -\n",
    "                data_set.mean(skipna=True)) / data_set.std(skipna=True)\n",
    "\n",
    "    '''\n",
    "        Returns the columns which has the outliers in them\n",
    "    '''\n",
    "\n",
    "    # [Copied from the EDA of Regression Course]\n",
    "    def check_outliers(self, data_set):\n",
    "        columns_with_outliers = []\n",
    "        for i in range(data_set.shape[1]):\n",
    "            outlier_cnt = len(\n",
    "                self.detect_outliers(data_set[data_set.columns[i]]))\n",
    "            if outlier_cnt > 0:\n",
    "                columns_with_outliers.append(data_set.columns[i])\n",
    "                if self._verbose:\n",
    "                    print('{} : {}'.format(data_set.columns[i], outlier_cnt))\n",
    "                    print_line(self._verbose)\n",
    "                    self.box_plot_all(data_set[data_set.columns[i]])\n",
    "        return columns_with_outliers\n",
    "\n",
    "    # [Copied from the EDA of Regression Course]\n",
    "    '''\n",
    "        68–95–99.7 rule, also known as the empirical rule, \n",
    "        is a shorthand used to remember the percentage of values that lie within a band around the mean \n",
    "        in a normal distribution with a width of two, four and six standard deviations, respectively; \n",
    "        more accurately, 68.27%, 95.45% and 99.73% of the values lie within one, two and three standard deviations \n",
    "        of the mean, respectively.\n",
    "    '''\n",
    "    def detect_outliers(self, data_set):\n",
    "        if data_set.dtype != 'object':\n",
    "            std_ = np.std(data_set)\n",
    "            mean_ = np.mean(data_set)\n",
    "            std_3rd = std_ * 3\n",
    "            outliers = []\n",
    "            lower_whisker = mean_ - std_3rd\n",
    "            upper_whisker = mean_ + std_3rd\n",
    "            #print(lower_whisker, upper_whisker)\n",
    "            # Generate outliers\n",
    "            for outlier in data_set:\n",
    "                if outlier > upper_whisker or outlier < lower_whisker:\n",
    "                    outliers.append(outlier)\n",
    "            return outliers\n",
    "        return []\n",
    "\n",
    "    def __str__(self):\n",
    "        return (\"DataQualityAnalyzer [duplicate_data_check:{}, \" +\n",
    "                \"invalid_inconsistent_check:{}, \" +\n",
    "                \"missing_value_check:{}, \" + \"noise_data_check:{}, \" +\n",
    "                \"outlier_check:{}, plot:{}, verbose:{} ]\").format(\n",
    "                    self._duplicate_data_check,\n",
    "                    self._invalid_inconsistent_check,\n",
    "                    self._missing_value_check, self._noise_data_check,\n",
    "                    self._outlier_check, self._plot, self._verbose)"
   ]
  },
  {
   "cell_type": "code",
   "execution_count": 291,
   "metadata": {},
   "outputs": [
    {
     "name": "stdout",
     "output_type": "stream",
     "text": [
      "Class Initialized :DataQualityAnalyzer [duplicate_data_check:True, invalid_inconsistent_check:True, missing_value_check:True, noise_data_check:True, outlier_check:(True,), plot:False, verbose:(False,) ]\n"
     ]
    }
   ],
   "source": [
    "Dqa = DataQualityAnalyzer(missing_value_check=True,\n",
    "                          duplicate_data_check=True,\n",
    "                          noise_data_check=True,\n",
    "                          invalid_inconsistent_check=True,\n",
    "                          outlier_check=True,\n",
    "                          verbose=False,\n",
    "                          plot=False)"
   ]
  },
  {
   "cell_type": "code",
   "execution_count": 292,
   "metadata": {},
   "outputs": [
    {
     "name": "stdout",
     "output_type": "stream",
     "text": [
      "================================================================================\n",
      "Missing Values persent for the Dataset bollywood.csv: \n",
      "================================================================================\n",
      "YoutubeLikes       1\n",
      "YoutubeDislikes    3\n",
      "dtype: int64\n",
      "================================================================================\n",
      "================================================================================\n",
      "Duplicated values present in the Dataset bollywood.csv with Columns for Duplicate Check[['MovieName']]: \n",
      "================================================================================\n",
      "No of Duplicate Rows present in the Data set 0\n",
      "================================================================================\n",
      "                          Noise check for the Dataset                           \n",
      "\n",
      "================================================================================\n",
      "                        Outliers present in the dataset                         \n",
      "================================================================================\n",
      "ReleaseTime : 1\n",
      "================================================================================\n"
     ]
    },
    {
     "data": {
      "image/png": "[encoded data removed]",
      "text/plain": [
       "<Figure size 432x288 with 1 Axes>"
      ]
     },
     "metadata": {},
     "output_type": "display_data"
    },
    {
     "name": "stdout",
     "output_type": "stream",
     "text": [
      "YoutubeViews : 1\n",
      "================================================================================\n"
     ]
    },
    {
     "data": {
      "image/png": "[encoded data removed]",
      "text/plain": [
       "<Figure size 432x288 with 1 Axes>"
      ]
     },
     "metadata": {},
     "output_type": "display_data"
    },
    {
     "name": "stdout",
     "output_type": "stream",
     "text": [
      "YoutubeLikes : 1\n",
      "================================================================================\n"
     ]
    },
    {
     "data": {
      "image/png": "[encoded data removed]",
      "text/plain": [
       "<Figure size 432x288 with 1 Axes>"
      ]
     },
     "metadata": {},
     "output_type": "display_data"
    },
    {
     "name": "stdout",
     "output_type": "stream",
     "text": [
      "YoutubeDislikes : 2\n",
      "================================================================================\n"
     ]
    },
    {
     "data": {
      "image/png": "[encoded data removed]",
      "text/plain": [
       "<Figure size 432x288 with 1 Axes>"
      ]
     },
     "metadata": {},
     "output_type": "display_data"
    },
    {
     "name": "stdout",
     "output_type": "stream",
     "text": [
      "YoutubeLikeDislikes : 1\n",
      "================================================================================\n"
     ]
    },
    {
     "data": {
      "image/png": "[encoded data removed]",
      "text/plain": [
       "<Figure size 432x288 with 1 Axes>"
      ]
     },
     "metadata": {},
     "output_type": "display_data"
    }
   ],
   "source": [
    "Dqa.check_data_quality('bollywood.csv', b1, [\"MovieName\"], {\"ReleaseTime\" : ReleaseWindow})"
   ]
  },
  {
   "cell_type": "code",
   "execution_count": 293,
   "metadata": {},
   "outputs": [
    {
     "name": "stdout",
     "output_type": "stream",
     "text": [
      "================================================================================\n",
      "Missing Values persent for the Dataset bollywood - 2.csv: \n",
      "================================================================================\n",
      "None\n",
      "================================================================================\n",
      "Duplicated values present in the Dataset bollywood - 2.csv with Columns for Duplicate Check[['Movie_Name']]: \n",
      "================================================================================\n",
      "No of Duplicate Rows present in the Data set 0\n",
      "================================================================================\n",
      "                          Noise check for the Dataset                           \n",
      "\n",
      "================================================================================\n",
      "                        Outliers present in the dataset                         \n",
      "================================================================================\n",
      "BudgetCr : 2\n",
      "================================================================================\n"
     ]
    },
    {
     "data": {
      "image/png": "[encoded data removed]",
      "text/plain": [
       "<Figure size 432x288 with 1 Axes>"
      ]
     },
     "metadata": {},
     "output_type": "display_data"
    },
    {
     "name": "stdout",
     "output_type": "stream",
     "text": [
      "BoxOfficeCollectionCr : 2\n",
      "================================================================================\n"
     ]
    },
    {
     "data": {
      "image/png": "[encoded data removed]",
      "text/plain": [
       "<Figure size 432x288 with 1 Axes>"
      ]
     },
     "metadata": {},
     "output_type": "display_data"
    },
    {
     "name": "stdout",
     "output_type": "stream",
     "text": [
      "Youtube_Views : 2\n",
      "================================================================================\n"
     ]
    },
    {
     "data": {
      "image/png": "[encoded data removed]",
      "text/plain": [
       "<Figure size 432x288 with 1 Axes>"
      ]
     },
     "metadata": {},
     "output_type": "display_data"
    },
    {
     "name": "stdout",
     "output_type": "stream",
     "text": [
      "Youtube_Likes : 3\n",
      "================================================================================\n"
     ]
    },
    {
     "data": {
      "image/png": "[encoded data removed]",
      "text/plain": [
       "<Figure size 432x288 with 1 Axes>"
      ]
     },
     "metadata": {},
     "output_type": "display_data"
    },
    {
     "name": "stdout",
     "output_type": "stream",
     "text": [
      "Youtube_Dislikes : 2\n",
      "================================================================================\n"
     ]
    },
    {
     "data": {
      "image/png": "[encoded data removed]",
      "text/plain": [
       "<Figure size 432x288 with 1 Axes>"
      ]
     },
     "metadata": {},
     "output_type": "display_data"
    }
   ],
   "source": [
    "Dqa.check_data_quality('bollywood - 2.csv', b2, [\"Movie_Name\"], {\"Release_Time\" : ReleaseWindow})"
   ]
  },
  {
   "cell_type": "markdown",
   "metadata": {},
   "source": [
    "### Steps for merging data\n",
    "\n",
    "1. Bring the column names to one set\n",
    "2. Add the missing column and reindex the datasets"
   ]
  },
  {
   "cell_type": "code",
   "execution_count": 294,
   "metadata": {},
   "outputs": [
    {
     "data": {
      "text/plain": [
       "Index(['No', 'RelDate', 'MovieName', 'ReleaseTime', 'Genre', 'Budget',\n",
       "       'BoxOfficeCollection', 'YoutubeViews', 'YoutubeLikes',\n",
       "       'YoutubeDislikes', 'YoutubeLikeDislikes'],\n",
       "      dtype='object')"
      ]
     },
     "execution_count": 294,
     "metadata": {},
     "output_type": "execute_result"
    }
   ],
   "source": [
    "b1.columns"
   ]
  },
  {
   "cell_type": "code",
   "execution_count": 295,
   "metadata": {},
   "outputs": [],
   "source": [
    "# Renamed the columns similar to Dataset 1\n",
    "# Not replacing the Dataset, collecting into a new dataset\n",
    "b2_renamed = b2.rename(\n",
    "    columns={\n",
    "        'Movie_ID': 'No',\n",
    "        'Release_Date': 'RelDate',\n",
    "        'Movie_Name': 'MovieName',\n",
    "        'Release_Time': 'ReleaseTime',\n",
    "        'BudgetCr': 'Budget',\n",
    "        'BoxOfficeCollectionCr': 'BoxOfficeCollection',\n",
    "        'Youtube_Views': 'YoutubeViews',\n",
    "        'Youtube_Likes': 'YoutubeLikes',\n",
    "        'Youtube_Dislikes': 'YoutubeDislikes'\n",
    "    })"
   ]
  },
  {
   "cell_type": "code",
   "execution_count": 296,
   "metadata": {},
   "outputs": [
    {
     "data": {
      "text/html": [
       "<div>\n",
       "<style scoped>\n",
       "    .dataframe tbody tr th:only-of-type {\n",
       "        vertical-align: middle;\n",
       "    }\n",
       "\n",
       "    .dataframe tbody tr th {\n",
       "        vertical-align: top;\n",
       "    }\n",
       "\n",
       "    .dataframe thead th {\n",
       "        text-align: right;\n",
       "    }\n",
       "</style>\n",
       "<table border=\"1\" class=\"dataframe\">\n",
       "  <thead>\n",
       "    <tr style=\"text-align: right;\">\n",
       "      <th></th>\n",
       "      <th>No</th>\n",
       "      <th>Budget</th>\n",
       "      <th>BoxOfficeCollection</th>\n",
       "      <th>YoutubeViews</th>\n",
       "      <th>YoutubeLikes</th>\n",
       "      <th>YoutubeDislikes</th>\n",
       "    </tr>\n",
       "  </thead>\n",
       "  <tbody>\n",
       "    <tr>\n",
       "      <th>count</th>\n",
       "      <td>99.000000</td>\n",
       "      <td>99.000000</td>\n",
       "      <td>99.000000</td>\n",
       "      <td>9.900000e+01</td>\n",
       "      <td>99.000000</td>\n",
       "      <td>99.000000</td>\n",
       "    </tr>\n",
       "    <tr>\n",
       "      <th>mean</th>\n",
       "      <td>100.000000</td>\n",
       "      <td>30.080808</td>\n",
       "      <td>56.253939</td>\n",
       "      <td>3.258616e+06</td>\n",
       "      <td>7445.202020</td>\n",
       "      <td>1170.989899</td>\n",
       "    </tr>\n",
       "    <tr>\n",
       "      <th>std</th>\n",
       "      <td>28.722813</td>\n",
       "      <td>28.485828</td>\n",
       "      <td>101.429241</td>\n",
       "      <td>3.479723e+06</td>\n",
       "      <td>11187.769162</td>\n",
       "      <td>1722.899736</td>\n",
       "    </tr>\n",
       "    <tr>\n",
       "      <th>min</th>\n",
       "      <td>51.000000</td>\n",
       "      <td>2.000000</td>\n",
       "      <td>0.240000</td>\n",
       "      <td>5.142000e+03</td>\n",
       "      <td>1.000000</td>\n",
       "      <td>1.000000</td>\n",
       "    </tr>\n",
       "    <tr>\n",
       "      <th>25%</th>\n",
       "      <td>75.500000</td>\n",
       "      <td>12.000000</td>\n",
       "      <td>8.390000</td>\n",
       "      <td>1.140044e+06</td>\n",
       "      <td>1099.000000</td>\n",
       "      <td>261.500000</td>\n",
       "    </tr>\n",
       "    <tr>\n",
       "      <th>50%</th>\n",
       "      <td>100.000000</td>\n",
       "      <td>22.000000</td>\n",
       "      <td>29.000000</td>\n",
       "      <td>2.501277e+06</td>\n",
       "      <td>4111.000000</td>\n",
       "      <td>628.000000</td>\n",
       "    </tr>\n",
       "    <tr>\n",
       "      <th>75%</th>\n",
       "      <td>124.500000</td>\n",
       "      <td>35.000000</td>\n",
       "      <td>55.000000</td>\n",
       "      <td>4.185784e+06</td>\n",
       "      <td>8589.000000</td>\n",
       "      <td>1378.000000</td>\n",
       "    </tr>\n",
       "    <tr>\n",
       "      <th>max</th>\n",
       "      <td>149.000000</td>\n",
       "      <td>150.000000</td>\n",
       "      <td>735.000000</td>\n",
       "      <td>2.317107e+07</td>\n",
       "      <td>72070.000000</td>\n",
       "      <td>11888.000000</td>\n",
       "    </tr>\n",
       "  </tbody>\n",
       "</table>\n",
       "</div>"
      ],
      "text/plain": [
       "               No      Budget  BoxOfficeCollection  YoutubeViews  \\\n",
       "count   99.000000   99.000000            99.000000  9.900000e+01   \n",
       "mean   100.000000   30.080808            56.253939  3.258616e+06   \n",
       "std     28.722813   28.485828           101.429241  3.479723e+06   \n",
       "min     51.000000    2.000000             0.240000  5.142000e+03   \n",
       "25%     75.500000   12.000000             8.390000  1.140044e+06   \n",
       "50%    100.000000   22.000000            29.000000  2.501277e+06   \n",
       "75%    124.500000   35.000000            55.000000  4.185784e+06   \n",
       "max    149.000000  150.000000           735.000000  2.317107e+07   \n",
       "\n",
       "       YoutubeLikes  YoutubeDislikes  \n",
       "count     99.000000        99.000000  \n",
       "mean    7445.202020      1170.989899  \n",
       "std    11187.769162      1722.899736  \n",
       "min        1.000000         1.000000  \n",
       "25%     1099.000000       261.500000  \n",
       "50%     4111.000000       628.000000  \n",
       "75%     8589.000000      1378.000000  \n",
       "max    72070.000000     11888.000000  "
      ]
     },
     "execution_count": 296,
     "metadata": {},
     "output_type": "execute_result"
    }
   ],
   "source": [
    "b2_renamed.describe()"
   ]
  },
  {
   "cell_type": "code",
   "execution_count": 297,
   "metadata": {},
   "outputs": [],
   "source": [
    "# Source : https://stackoverflow.com/questions/46149157/compare-columns-of-pandas-dataframes-and-fill-missing-values\n",
    "# Get the combined list of all columns\n",
    "cols = b1.columns | b2_renamed.columns\n",
    "b1 = b1.reindex(columns=cols)\n",
    "b2_renamed = b2_renamed.reindex(columns=cols).fillna(0)\n",
    "\n",
    "b2_renamed['YoutubeLikeDislikes'] = b2_renamed['YoutubeLikes'] + b2_renamed['YoutubeDislikes']\n",
    "\n",
    "# Source : https://pandas.pydata.org/pandas-docs/stable/user_guide/merging.html\n",
    "\n",
    "b_merged = pd.concat([b1, b2_renamed])"
   ]
  },
  {
   "cell_type": "code",
   "execution_count": 298,
   "metadata": {},
   "outputs": [
    {
     "name": "stdout",
     "output_type": "stream",
     "text": [
      "================================================================================\n",
      "Missing Values persent for the Dataset bollywood - Merged.csv: \n",
      "================================================================================\n",
      "YoutubeDislikes    3\n",
      "YoutubeLikes       1\n",
      "dtype: int64\n",
      "================================================================================\n",
      "================================================================================\n",
      "Duplicated values present in the Dataset bollywood - Merged.csv with Columns for Duplicate Check[['MovieName']]: \n",
      "================================================================================\n",
      "No of Duplicate Rows present in the Data set 1\n",
      "================================================================================\n",
      "                          Noise check for the Dataset                           \n",
      "\n",
      "================================================================================\n",
      "                        Outliers present in the dataset                         \n",
      "================================================================================\n",
      "YoutubeDislikes : 4\n",
      "================================================================================\n"
     ]
    },
    {
     "data": {
      "image/png": "[encoded data removed]",
      "text/plain": [
       "<Figure size 432x288 with 1 Axes>"
      ]
     },
     "metadata": {},
     "output_type": "display_data"
    },
    {
     "name": "stdout",
     "output_type": "stream",
     "text": [
      "YoutubeLikeDislikes : 3\n",
      "================================================================================\n"
     ]
    },
    {
     "data": {
      "image/png": "[encoded data removed]",
      "text/plain": [
       "<Figure size 432x288 with 1 Axes>"
      ]
     },
     "metadata": {},
     "output_type": "display_data"
    },
    {
     "name": "stdout",
     "output_type": "stream",
     "text": [
      "YoutubeLikes : 3\n",
      "================================================================================\n"
     ]
    },
    {
     "data": {
      "image/png": "[encoded data removed]",
      "text/plain": [
       "<Figure size 432x288 with 1 Axes>"
      ]
     },
     "metadata": {},
     "output_type": "display_data"
    },
    {
     "name": "stdout",
     "output_type": "stream",
     "text": [
      "YoutubeViews : 4\n",
      "================================================================================\n"
     ]
    },
    {
     "data": {
      "image/png": "[encoded data removed]",
      "text/plain": [
       "<Figure size 432x288 with 1 Axes>"
      ]
     },
     "metadata": {},
     "output_type": "display_data"
    }
   ],
   "source": [
    "Dqa.check_data_quality('bollywood - Merged.csv', b_merged, [\"MovieName\"], None)"
   ]
  },
  {
   "cell_type": "markdown",
   "metadata": {},
   "source": [
    "### Q1. Identify and rectify the eight prominent data quality issues present in the given datasets.  \n",
    "\n",
    "#### Solution\n",
    "\n",
    "1. Missing values  \n",
    "   Missing Values can happen three ways in your dataset\n",
    "\n",
    "  1. Missing completely at random (MCAR)\n",
    "     The Current Two Datasets that we have recieved are having some values that are being missed in the \n",
    "  2. Missing at random (MAR)\n",
    "  3. Not missing at random (NMAR)\n",
    "  \n",
    "2. Duplicate data\n",
    "3. Inconsistent / Invalid data\n",
    "4. Noise\n",
    "5. Outliers\n",
    "\n",
    "\n",
    "#### Analysis - Independent Datasets\n",
    "\n",
    "From the given two datasets **'bollywood.csv'** and **'bollywood-2.csv'** we have two different datasets of movies and thier release related information.\n",
    "##### **Dataset 1 - bollywood.csv** \n",
    "1. Missing values\n",
    "    1. YoutubeLikes       **1**\n",
    "    2. YoutubeDislikes    **3**\n",
    "     \n",
    "     From the observations on the dataset we have column in the dataset which talks about conjunction of the both these columns i.e. **'YoutubeLikeDislikes'**\n",
    "     \n",
    "     - **Imputation is YoutubeLikes + YoutubeDislikes = YoutubeLikeDislikes**\n",
    "\n",
    "2. Duplicate Data\n",
    "    There is no duplicate Data that exists in the Dataset 1\n",
    "    \n",
    "3. In Consistent/ In Valid Data\n",
    "   With the cursory check on the data there are columns which are suppose to be of type 'float' turned out to be having 'object'/'string' data\n",
    "   \n",
    "4. Noise check\n",
    "\n",
    "5. Outliers\n",
    "   Dataset consists of the following outlier features\n",
    "    + ReleaseTime : **1**\n",
    "    + YoutubeViews : **1**\n",
    "    + YoutubeLikes : **1**\n",
    "    + YoutubeDislikes: **2**\n",
    "    + YoutubeLikeDislikes : **1**\n",
    "   \n",
    "#####  **Dataset 2 - bollywood-2.csv** \n",
    "1. Missing values\n",
    "     From the observations on the dataset we completely missed the column which we have seen in the Dataset 1 **'YoutubeLikeDislikes'**\n",
    "     - **Imputation is YoutubeLikes + YoutubeDislikes = YoutubeLikeDislikes**\n",
    "\n",
    "2. Duplicate Data\n",
    "    There is no duplicate Data that exists in the Dataset 2\n",
    "    \n",
    "3. In Consistent/ In Valid Data\n",
    "   With the cursory check on the data there are columns which are suppose to be of type 'float' turned out to be having 'object'/'string' data\n",
    "   \n",
    "4. Noise check\n",
    "\n",
    "5. Outliers\n",
    "   Dataset consists of the following outlier features\n",
    "    + BudgetCr : **2**\n",
    "    + BoxOfficeCollectionCr : **2**\n",
    "    + Youtube_Views : **2**\n",
    "    + Youtube_Likes : **3**\n",
    "    + Youtube_Dislikes : **2**\n",
    "    \n",
    "    \n",
    "#### Analysis - Merged Dataset\n",
    "\n",
    "In order to perfrom the merged analysis on the dataset we need to fulfil another DataQuality issue from the Dataset 2 **'bollywood-2.csv'** which is missing column\n",
    "\n",
    "Here also we can use the below imputation technique which is observed in the Dataset 1\n",
    "**Imputation is YoutubeLikes + YoutubeDislikes = YoutubeLikeDislikes**\n",
    "\n",
    "\n",
    "1. Missing values\n",
    "     Merged Dataset shows the earlier Dataset 1 Missing values\n",
    "     - **Imputation is YoutubeLikes + YoutubeDislikes = YoutubeLikeDislikes**\n",
    "\n",
    "2. Duplicate Data\n",
    "    When merged there is one row with duplicate data exists\n",
    "    \n",
    "3. In Consistent/ In Valid Data\n",
    "   With the cursory check on the data there are columns which are suppose to be of type 'float' turned out to be having 'object'/'string' data\n",
    "   \n",
    "4. Noise check\n",
    "\n",
    "5. Outliers\n",
    "   Dataset consists of the following outlier features\n",
    "    + YoutubeDislikes : **4**\n",
    "    + YoutubeLikeDislikes : **3**\n",
    "    + YoutubeLikes : **3**\n",
    "    + YoutubeViews : **4**"
   ]
  },
  {
   "cell_type": "markdown",
   "metadata": {},
   "source": [
    "### Q2. How many records are present in the dataset? Print the metadata information of dataset\n",
    "#### Solution\n",
    "\n",
    "We have two datasets and merged into one below is the metadata information of the same\n",
    "\n",
    "1. Dataset 1 is having 51 Entries with 11 features\n",
    "2. Dataset 2 is having 99 Entries with 10 features [Missing 'YoutubeLikeDislikes']\n",
    "3. Merged Dataset is having 150 Entries with 11 features [Adjusted Dataset 2 using imputation where Data is **Missing Data at Random**]"
   ]
  },
  {
   "cell_type": "code",
   "execution_count": 299,
   "metadata": {},
   "outputs": [
    {
     "name": "stdout",
     "output_type": "stream",
     "text": [
      "<class 'pandas.core.frame.DataFrame'>\n",
      "RangeIndex: 51 entries, 0 to 50\n",
      "Data columns (total 11 columns):\n",
      " #   Column               Non-Null Count  Dtype  \n",
      "---  ------               --------------  -----  \n",
      " 0   BoxOfficeCollection  51 non-null     object \n",
      " 1   Budget               51 non-null     object \n",
      " 2   Genre                51 non-null     object \n",
      " 3   MovieName            51 non-null     object \n",
      " 4   No                   51 non-null     int64  \n",
      " 5   RelDate              51 non-null     object \n",
      " 6   ReleaseTime          51 non-null     int64  \n",
      " 7   YoutubeDislikes      48 non-null     float64\n",
      " 8   YoutubeLikeDislikes  51 non-null     int64  \n",
      " 9   YoutubeLikes         50 non-null     float64\n",
      " 10  YoutubeViews         51 non-null     int64  \n",
      "dtypes: float64(2), int64(4), object(5)\n",
      "memory usage: 4.5+ KB\n"
     ]
    }
   ],
   "source": [
    "b1.info()"
   ]
  },
  {
   "cell_type": "code",
   "execution_count": 300,
   "metadata": {},
   "outputs": [
    {
     "name": "stdout",
     "output_type": "stream",
     "text": [
      "<class 'pandas.core.frame.DataFrame'>\n",
      "RangeIndex: 99 entries, 0 to 98\n",
      "Data columns (total 10 columns):\n",
      " #   Column                 Non-Null Count  Dtype  \n",
      "---  ------                 --------------  -----  \n",
      " 0   Movie_ID               99 non-null     int64  \n",
      " 1   Release_Date           99 non-null     object \n",
      " 2   Movie_Name             99 non-null     object \n",
      " 3   Release_Time           99 non-null     object \n",
      " 4   Genre                  99 non-null     object \n",
      " 5   BudgetCr               99 non-null     int64  \n",
      " 6   BoxOfficeCollectionCr  99 non-null     float64\n",
      " 7   Youtube_Views          99 non-null     int64  \n",
      " 8   Youtube_Likes          99 non-null     int64  \n",
      " 9   Youtube_Dislikes       99 non-null     int64  \n",
      "dtypes: float64(1), int64(5), object(4)\n",
      "memory usage: 7.9+ KB\n"
     ]
    }
   ],
   "source": [
    "b2.info()"
   ]
  },
  {
   "cell_type": "code",
   "execution_count": 301,
   "metadata": {},
   "outputs": [
    {
     "name": "stdout",
     "output_type": "stream",
     "text": [
      "<class 'pandas.core.frame.DataFrame'>\n",
      "Int64Index: 150 entries, 0 to 98\n",
      "Data columns (total 11 columns):\n",
      " #   Column               Non-Null Count  Dtype  \n",
      "---  ------               --------------  -----  \n",
      " 0   BoxOfficeCollection  150 non-null    object \n",
      " 1   Budget               150 non-null    object \n",
      " 2   Genre                150 non-null    object \n",
      " 3   MovieName            150 non-null    object \n",
      " 4   No                   150 non-null    int64  \n",
      " 5   RelDate              150 non-null    object \n",
      " 6   ReleaseTime          150 non-null    object \n",
      " 7   YoutubeDislikes      147 non-null    float64\n",
      " 8   YoutubeLikeDislikes  150 non-null    int64  \n",
      " 9   YoutubeLikes         149 non-null    float64\n",
      " 10  YoutubeViews         150 non-null    int64  \n",
      "dtypes: float64(2), int64(3), object(6)\n",
      "memory usage: 19.1+ KB\n"
     ]
    }
   ],
   "source": [
    "b_merged.info()"
   ]
  },
  {
   "cell_type": "markdown",
   "metadata": {},
   "source": [
    "## Imputation Techniques - Preprocessing Data\n",
    "\n",
    "1. Missing Data Values \n",
    "\n",
    "2. Duplicate Rows\n",
    "\n",
    "3. Invalid/In - Consistent Data\n",
    "\n",
    "    1. Budget - Displays as type where in the value is Numeric (reason 'Cr' is pre/suffix to the numerical value)\n",
    "    2. BoxOfficeCollection - Displays as type where in the value is Numeric (reason 'Cr' is pre/suffix to the numerical value)\n",
    "    3. RelDate - Displays as type object instead of data_time [https://www.delftstack.com/howto/python-pandas/how-to-convert-dataframe-column-to-datetime-in-pandas/]\n",
    "    "
   ]
  },
  {
   "cell_type": "code",
   "execution_count": 302,
   "metadata": {},
   "outputs": [
    {
     "data": {
      "text/html": [
       "<div>\n",
       "<style scoped>\n",
       "    .dataframe tbody tr th:only-of-type {\n",
       "        vertical-align: middle;\n",
       "    }\n",
       "\n",
       "    .dataframe tbody tr th {\n",
       "        vertical-align: top;\n",
       "    }\n",
       "\n",
       "    .dataframe thead th {\n",
       "        text-align: right;\n",
       "    }\n",
       "</style>\n",
       "<table border=\"1\" class=\"dataframe\">\n",
       "  <thead>\n",
       "    <tr style=\"text-align: right;\">\n",
       "      <th></th>\n",
       "      <th>BoxOfficeCollection</th>\n",
       "      <th>Budget</th>\n",
       "      <th>Genre</th>\n",
       "      <th>MovieName</th>\n",
       "      <th>No</th>\n",
       "      <th>RelDate</th>\n",
       "      <th>ReleaseTime</th>\n",
       "      <th>YoutubeDislikes</th>\n",
       "      <th>YoutubeLikeDislikes</th>\n",
       "      <th>YoutubeLikes</th>\n",
       "      <th>YoutubeViews</th>\n",
       "    </tr>\n",
       "  </thead>\n",
       "  <tbody>\n",
       "    <tr>\n",
       "      <th>9</th>\n",
       "      <td>Cr0.01</td>\n",
       "      <td>2Cr</td>\n",
       "      <td>DramaGenre</td>\n",
       "      <td>Gangoobai</td>\n",
       "      <td>10</td>\n",
       "      <td>Jan-11-2013</td>\n",
       "      <td>4</td>\n",
       "      <td>NaN</td>\n",
       "      <td>2</td>\n",
       "      <td>1.0</td>\n",
       "      <td>4354</td>\n",
       "    </tr>\n",
       "    <tr>\n",
       "      <th>31</th>\n",
       "      <td>25</td>\n",
       "      <td>12Cr</td>\n",
       "      <td>Thriller</td>\n",
       "      <td>Murder 3</td>\n",
       "      <td>32</td>\n",
       "      <td>Feb-15-2013</td>\n",
       "      <td>1</td>\n",
       "      <td>NaN</td>\n",
       "      <td>2626</td>\n",
       "      <td>1879.0</td>\n",
       "      <td>2249055</td>\n",
       "    </tr>\n",
       "    <tr>\n",
       "      <th>39</th>\n",
       "      <td>63.7</td>\n",
       "      <td>75Cr</td>\n",
       "      <td>ComedyGenre</td>\n",
       "      <td>Humshakals</td>\n",
       "      <td>40</td>\n",
       "      <td>Jun-20-2014</td>\n",
       "      <td>2</td>\n",
       "      <td>1.0</td>\n",
       "      <td>2</td>\n",
       "      <td>NaN</td>\n",
       "      <td>6280868</td>\n",
       "    </tr>\n",
       "    <tr>\n",
       "      <th>46</th>\n",
       "      <td>11</td>\n",
       "      <td>5Cr</td>\n",
       "      <td>ComedyGenre</td>\n",
       "      <td>Mere Dad Ki Maruti</td>\n",
       "      <td>47</td>\n",
       "      <td>Mar-15-2013</td>\n",
       "      <td>4</td>\n",
       "      <td>NaN</td>\n",
       "      <td>1359</td>\n",
       "      <td>1226.0</td>\n",
       "      <td>569711</td>\n",
       "    </tr>\n",
       "  </tbody>\n",
       "</table>\n",
       "</div>"
      ],
      "text/plain": [
       "   BoxOfficeCollection Budget        Genre           MovieName  No  \\\n",
       "9               Cr0.01    2Cr   DramaGenre           Gangoobai  10   \n",
       "31                  25   12Cr     Thriller            Murder 3  32   \n",
       "39                63.7   75Cr  ComedyGenre          Humshakals  40   \n",
       "46                  11    5Cr  ComedyGenre  Mere Dad Ki Maruti  47   \n",
       "\n",
       "        RelDate ReleaseTime  YoutubeDislikes  YoutubeLikeDislikes  \\\n",
       "9   Jan-11-2013           4              NaN                    2   \n",
       "31  Feb-15-2013           1              NaN                 2626   \n",
       "39  Jun-20-2014           2              1.0                    2   \n",
       "46  Mar-15-2013           4              NaN                 1359   \n",
       "\n",
       "    YoutubeLikes  YoutubeViews  \n",
       "9            1.0          4354  \n",
       "31        1879.0       2249055  \n",
       "39           NaN       6280868  \n",
       "46        1226.0        569711  "
      ]
     },
     "execution_count": 302,
     "metadata": {},
     "output_type": "execute_result"
    }
   ],
   "source": [
    "b_merged.reindex()\n",
    "b_merged[b_merged.isna().any(axis=1)]"
   ]
  },
  {
   "cell_type": "code",
   "execution_count": 303,
   "metadata": {},
   "outputs": [
    {
     "name": "stdout",
     "output_type": "stream",
     "text": [
      "                   Imputation to fill data in likes, dislikes                   \n",
      "================================================================================\n",
      "BoxOfficeCollection    0\n",
      "Budget                 0\n",
      "Genre                  0\n",
      "MovieName              0\n",
      "No                     0\n",
      "RelDate                0\n",
      "ReleaseTime            0\n",
      "YoutubeDislikes        3\n",
      "YoutubeLikeDislikes    0\n",
      "YoutubeLikes           1\n",
      "YoutubeViews           0\n",
      "dtype: int64\n",
      "================================================================================\n"
     ]
    }
   ],
   "source": [
    "print('Imputation to fill data in likes, dislikes'.center(80, ' '))\n",
    "print_line(True)\n",
    "print(b_merged.isnull().sum())\n",
    "print_line(True)"
   ]
  },
  {
   "cell_type": "code",
   "execution_count": 304,
   "metadata": {},
   "outputs": [
    {
     "name": "stdout",
     "output_type": "stream",
     "text": [
      "                After Imputation to fill data in likes, dislikes                \n",
      "================================================================================\n"
     ]
    },
    {
     "data": {
      "text/plain": [
       "BoxOfficeCollection    0\n",
       "Budget                 0\n",
       "Genre                  0\n",
       "MovieName              0\n",
       "No                     0\n",
       "RelDate                0\n",
       "ReleaseTime            0\n",
       "YoutubeDislikes        0\n",
       "YoutubeLikeDislikes    0\n",
       "YoutubeLikes           0\n",
       "YoutubeViews           0\n",
       "dtype: int64"
      ]
     },
     "execution_count": 304,
     "metadata": {},
     "output_type": "execute_result"
    }
   ],
   "source": [
    "print('After Imputation to fill data in likes, dislikes'.center(80, ' '))\n",
    "print_line(True)\n",
    "\n",
    "#Synchronize the values\n",
    "if b_merged[\"ReleaseTime\"].dtype == 'object':\n",
    "    b_merged[\"ReleaseTime\"] = b_merged[\"ReleaseTime\"].replace(\n",
    "        to_replace=[e.name for e in ReleaseWindow],\n",
    "        value=[e.value for e in ReleaseWindow])\n",
    "\n",
    "#Stripping Genre\n",
    "b_merged['Genre'] = b_merged['Genre'].map(\n",
    "    lambda x: (str(x).replace('Genre', '')).strip())\n",
    "\n",
    "for i, row in b_merged.iterrows():\n",
    "    if math.isnan(row.YoutubeDislikes):\n",
    "        b_merged.loc[\n",
    "            i, 'YoutubeDislikes'] = row.YoutubeLikeDislikes - row.YoutubeLikes\n",
    "\n",
    "    if math.isnan(row.YoutubeLikes):\n",
    "        b_merged.loc[\n",
    "            i, 'YoutubeLikes'] = row.YoutubeLikeDislikes - row.YoutubeDislikes\n",
    "\n",
    "    if float(row.ReleaseTime) > 4:\n",
    "        b_merged.loc[\n",
    "            i,\n",
    "            'ReleaseTime'] = ReleaseWindow.N.value  # Replace with the maximum value\n",
    "\n",
    "b_merged.isnull().sum()"
   ]
  },
  {
   "cell_type": "code",
   "execution_count": 305,
   "metadata": {},
   "outputs": [
    {
     "data": {
      "text/plain": [
       "(149, 11)"
      ]
     },
     "execution_count": 305,
     "metadata": {},
     "output_type": "execute_result"
    }
   ],
   "source": [
    "b_merged['Budget'] = b_merged['Budget'].map(\n",
    "    lambda x: float(str(x).replace('Cr', '')))\n",
    "b_merged['BoxOfficeCollection'] = b_merged['BoxOfficeCollection'].map(\n",
    "    lambda x: float(str(x).replace('Cr', '')))\n",
    "\n",
    "## Drop Duplicates\n",
    "b_merged = b_merged.drop_duplicates('MovieName')\n",
    "b_merged.shape"
   ]
  },
  {
   "cell_type": "markdown",
   "metadata": {},
   "source": [
    "### Q3. How many movies in each genre got released in different release times?\n",
    "\n",
    "Using Pandas Group by for the **'Genre'** and **'ReleaseTime'** will enable us to know how many released in each genre during which release time "
   ]
  },
  {
   "cell_type": "code",
   "execution_count": 306,
   "metadata": {},
   "outputs": [
    {
     "data": {
      "text/plain": [
       "Genre     ReleaseTime\n",
       "Action    1               3\n",
       "          2               3\n",
       "          3               3\n",
       "          4              15\n",
       "Comedy    1               3\n",
       "          2               5\n",
       "          3               5\n",
       "          4              23\n",
       "Drama     1               4\n",
       "          2               6\n",
       "          3               1\n",
       "          4              24\n",
       "Romance   1               3\n",
       "          2               3\n",
       "          3               4\n",
       "          4              15\n",
       "Thriller  1               4\n",
       "          2               1\n",
       "          3               2\n",
       "          4              22\n",
       "Name: No, dtype: int64"
      ]
     },
     "execution_count": 306,
     "metadata": {},
     "output_type": "execute_result"
    }
   ],
   "source": [
    "b_merged.groupby(['Genre', 'ReleaseTime'])['No'].count()"
   ]
  },
  {
   "cell_type": "markdown",
   "metadata": {},
   "source": [
    "### Q4. Which month of the year, maximum movie releases are seen?"
   ]
  },
  {
   "cell_type": "code",
   "execution_count": 307,
   "metadata": {},
   "outputs": [
    {
     "data": {
      "text/html": [
       "<div>\n",
       "<style scoped>\n",
       "    .dataframe tbody tr th:only-of-type {\n",
       "        vertical-align: middle;\n",
       "    }\n",
       "\n",
       "    .dataframe tbody tr th {\n",
       "        vertical-align: top;\n",
       "    }\n",
       "\n",
       "    .dataframe thead th {\n",
       "        text-align: right;\n",
       "    }\n",
       "</style>\n",
       "<table border=\"1\" class=\"dataframe\">\n",
       "  <thead>\n",
       "    <tr style=\"text-align: right;\">\n",
       "      <th></th>\n",
       "      <th>BoxOfficeCollection</th>\n",
       "      <th>Budget</th>\n",
       "      <th>Genre</th>\n",
       "      <th>MovieName</th>\n",
       "      <th>No</th>\n",
       "      <th>RelDate</th>\n",
       "      <th>ReleaseTime</th>\n",
       "      <th>YoutubeDislikes</th>\n",
       "      <th>YoutubeLikeDislikes</th>\n",
       "      <th>YoutubeLikes</th>\n",
       "      <th>YoutubeViews</th>\n",
       "    </tr>\n",
       "  </thead>\n",
       "  <tbody>\n",
       "    <tr>\n",
       "      <th>6</th>\n",
       "      <td>24.60</td>\n",
       "      <td>30.0</td>\n",
       "      <td>Comedy</td>\n",
       "      <td>Daawat-E-Ishq</td>\n",
       "      <td>7</td>\n",
       "      <td>Sqp-19-2014</td>\n",
       "      <td>4</td>\n",
       "      <td>1373.0</td>\n",
       "      <td>9688</td>\n",
       "      <td>8315.0</td>\n",
       "      <td>3905050</td>\n",
       "    </tr>\n",
       "    <tr>\n",
       "      <th>6</th>\n",
       "      <td>36.00</td>\n",
       "      <td>15.0</td>\n",
       "      <td>Drama</td>\n",
       "      <td>Mardaani</td>\n",
       "      <td>57</td>\n",
       "      <td>22-Aug-14</td>\n",
       "      <td>4</td>\n",
       "      <td>1035.0</td>\n",
       "      <td>15443</td>\n",
       "      <td>14408.0</td>\n",
       "      <td>4376650</td>\n",
       "    </tr>\n",
       "    <tr>\n",
       "      <th>12</th>\n",
       "      <td>105.50</td>\n",
       "      <td>35.0</td>\n",
       "      <td>Romance</td>\n",
       "      <td>Ek Villain</td>\n",
       "      <td>13</td>\n",
       "      <td>Jum-27-2014</td>\n",
       "      <td>2</td>\n",
       "      <td>1094.0</td>\n",
       "      <td>14652</td>\n",
       "      <td>13558.0</td>\n",
       "      <td>4518748</td>\n",
       "    </tr>\n",
       "    <tr>\n",
       "      <th>12</th>\n",
       "      <td>45.00</td>\n",
       "      <td>24.0</td>\n",
       "      <td>Thriller</td>\n",
       "      <td>Ek Thi Daayan</td>\n",
       "      <td>63</td>\n",
       "      <td>19-Apr-13</td>\n",
       "      <td>1</td>\n",
       "      <td>613.0</td>\n",
       "      <td>3909</td>\n",
       "      <td>3296.0</td>\n",
       "      <td>1837437</td>\n",
       "    </tr>\n",
       "    <tr>\n",
       "      <th>17</th>\n",
       "      <td>6.00</td>\n",
       "      <td>10.0</td>\n",
       "      <td>Comedy</td>\n",
       "      <td>Filmistaan</td>\n",
       "      <td>18</td>\n",
       "      <td>juu-6-2014</td>\n",
       "      <td>2</td>\n",
       "      <td>173.0</td>\n",
       "      <td>1781</td>\n",
       "      <td>1608.0</td>\n",
       "      <td>989096</td>\n",
       "    </tr>\n",
       "    <tr>\n",
       "      <th>17</th>\n",
       "      <td>1.10</td>\n",
       "      <td>10.0</td>\n",
       "      <td>Romance</td>\n",
       "      <td>Purani Jeans</td>\n",
       "      <td>68</td>\n",
       "      <td>2-May-14</td>\n",
       "      <td>2</td>\n",
       "      <td>229.0</td>\n",
       "      <td>1051</td>\n",
       "      <td>822.0</td>\n",
       "      <td>1537063</td>\n",
       "    </tr>\n",
       "    <tr>\n",
       "      <th>34</th>\n",
       "      <td>27.25</td>\n",
       "      <td>30.0</td>\n",
       "      <td>Drama</td>\n",
       "      <td>Highway</td>\n",
       "      <td>35</td>\n",
       "      <td>Feb-21-204</td>\n",
       "      <td>4</td>\n",
       "      <td>971.0</td>\n",
       "      <td>10071</td>\n",
       "      <td>9100.0</td>\n",
       "      <td>3043012</td>\n",
       "    </tr>\n",
       "    <tr>\n",
       "      <th>34</th>\n",
       "      <td>55.00</td>\n",
       "      <td>24.0</td>\n",
       "      <td>Comedy</td>\n",
       "      <td>Yamla Pagla Deewana 2</td>\n",
       "      <td>85</td>\n",
       "      <td>7-Jun-13</td>\n",
       "      <td>4</td>\n",
       "      <td>681.0</td>\n",
       "      <td>6138</td>\n",
       "      <td>5457.0</td>\n",
       "      <td>2775792</td>\n",
       "    </tr>\n",
       "  </tbody>\n",
       "</table>\n",
       "</div>"
      ],
      "text/plain": [
       "    BoxOfficeCollection  Budget     Genre              MovieName  No  \\\n",
       "6                 24.60    30.0    Comedy          Daawat-E-Ishq   7   \n",
       "6                 36.00    15.0     Drama               Mardaani  57   \n",
       "12               105.50    35.0   Romance             Ek Villain  13   \n",
       "12                45.00    24.0  Thriller          Ek Thi Daayan  63   \n",
       "17                 6.00    10.0    Comedy             Filmistaan  18   \n",
       "17                 1.10    10.0   Romance           Purani Jeans  68   \n",
       "34                27.25    30.0     Drama                Highway  35   \n",
       "34                55.00    24.0    Comedy  Yamla Pagla Deewana 2  85   \n",
       "\n",
       "        RelDate  ReleaseTime  YoutubeDislikes  YoutubeLikeDislikes  \\\n",
       "6   Sqp-19-2014            4           1373.0                 9688   \n",
       "6     22-Aug-14            4           1035.0                15443   \n",
       "12  Jum-27-2014            2           1094.0                14652   \n",
       "12    19-Apr-13            1            613.0                 3909   \n",
       "17   juu-6-2014            2            173.0                 1781   \n",
       "17     2-May-14            2            229.0                 1051   \n",
       "34   Feb-21-204            4            971.0                10071   \n",
       "34     7-Jun-13            4            681.0                 6138   \n",
       "\n",
       "    YoutubeLikes  YoutubeViews  \n",
       "6         8315.0       3905050  \n",
       "6        14408.0       4376650  \n",
       "12       13558.0       4518748  \n",
       "12        3296.0       1837437  \n",
       "17        1608.0        989096  \n",
       "17         822.0       1537063  \n",
       "34        9100.0       3043012  \n",
       "34        5457.0       2775792  "
      ]
     },
     "execution_count": 307,
     "metadata": {},
     "output_type": "execute_result"
    }
   ],
   "source": [
    "b_merged.loc[[6, 12, 17, 34]]"
   ]
  },
  {
   "cell_type": "code",
   "execution_count": 308,
   "metadata": {},
   "outputs": [],
   "source": [
    "#Sqp-19-2014 -> Sep-19-2014\n",
    "#Jum-27-2014 -> Jun-27-2014\n",
    "#juu-6-2014 -> Jun-6-2014\n",
    "#Feb-21-204 -> Feb-21-204\n",
    "# Cursory Check Error Fixes based on the NaT Rows\n",
    "b_merged['RelDate'].replace({\n",
    "    'Sqp-19-2014': 'Sep-19-2014',\n",
    "    'Jum-27-2014': 'Jun-27-2014',\n",
    "    'juu-6-2014': 'Jun-6-2014',\n",
    "    'Feb-21-204' : 'Feb-21-2014'\n",
    "}, inplace=True)\n",
    "b_merged['RelDate'] = pd.to_datetime(b_merged['RelDate'], errors='coerce')"
   ]
  },
  {
   "cell_type": "code",
   "execution_count": 309,
   "metadata": {},
   "outputs": [
    {
     "data": {
      "text/html": [
       "<div>\n",
       "<style scoped>\n",
       "    .dataframe tbody tr th:only-of-type {\n",
       "        vertical-align: middle;\n",
       "    }\n",
       "\n",
       "    .dataframe tbody tr th {\n",
       "        vertical-align: top;\n",
       "    }\n",
       "\n",
       "    .dataframe thead th {\n",
       "        text-align: right;\n",
       "    }\n",
       "</style>\n",
       "<table border=\"1\" class=\"dataframe\">\n",
       "  <thead>\n",
       "    <tr style=\"text-align: right;\">\n",
       "      <th></th>\n",
       "      <th>BoxOfficeCollection</th>\n",
       "      <th>Budget</th>\n",
       "      <th>Genre</th>\n",
       "      <th>MovieName</th>\n",
       "      <th>No</th>\n",
       "      <th>RelDate</th>\n",
       "      <th>ReleaseTime</th>\n",
       "      <th>YoutubeDislikes</th>\n",
       "      <th>YoutubeLikeDislikes</th>\n",
       "      <th>YoutubeLikes</th>\n",
       "      <th>YoutubeViews</th>\n",
       "    </tr>\n",
       "  </thead>\n",
       "  <tbody>\n",
       "  </tbody>\n",
       "</table>\n",
       "</div>"
      ],
      "text/plain": [
       "Empty DataFrame\n",
       "Columns: [BoxOfficeCollection, Budget, Genre, MovieName, No, RelDate, ReleaseTime, YoutubeDislikes, YoutubeLikeDislikes, YoutubeLikes, YoutubeViews]\n",
       "Index: []"
      ]
     },
     "execution_count": 309,
     "metadata": {},
     "output_type": "execute_result"
    }
   ],
   "source": [
    "b_merged[b_merged.isna().any(axis=1)]"
   ]
  },
  {
   "cell_type": "markdown",
   "metadata": {},
   "source": [
    "#### Analysis :\n",
    "Four rows of data having incorrect date values, Removing the NaT Entries in processing"
   ]
  },
  {
   "cell_type": "code",
   "execution_count": 310,
   "metadata": {},
   "outputs": [
    {
     "data": {
      "text/plain": [
       "Year  Month\n",
       "2014  5        12\n",
       "Name: No, dtype: int64"
      ]
     },
     "execution_count": 310,
     "metadata": {},
     "output_type": "execute_result"
    }
   ],
   "source": [
    "b_merged['Month'] = b_merged['RelDate'].dt.month\n",
    "b_merged['Year'] = b_merged['RelDate'].dt.year\n",
    "# Group By Month \n",
    "b_merged.groupby(['Year', 'Month'])['No'].count().nlargest(1)"
   ]
  },
  {
   "cell_type": "markdown",
   "metadata": {},
   "source": [
    "### Q5. Which month of the year typically sees most releases of high budgeted movies, that is, movies with budget of 25 crore or more?"
   ]
  },
  {
   "cell_type": "code",
   "execution_count": 311,
   "metadata": {},
   "outputs": [
    {
     "name": "stdout",
     "output_type": "stream",
     "text": [
      "The Month which sees high budget release :9\n"
     ]
    }
   ],
   "source": [
    "# Filter Budgeted records by value and then group\n",
    "filtered = b_merged[b_merged['Budget']>25]\n",
    "filtered.groupby('Month')['No'].count()\n",
    "print('The Month which sees high budget release :{}'.format(max(filtered.groupby('Month')['No'].count())))"
   ]
  },
  {
   "cell_type": "markdown",
   "metadata": {},
   "source": [
    "### Q6. Which are the top 10 movies with maximum return of investment (ROI)? Calculate ROI as (Box office collection – Budget) / Budget.\n",
    "\n",
    "Source [https://medium.com/dunder-data/selecting-subsets-of-data-in-pandas-6fcd0170be9c]"
   ]
  },
  {
   "cell_type": "code",
   "execution_count": 312,
   "metadata": {},
   "outputs": [],
   "source": [
    "b_merged['ROI'] = (b_merged['BoxOfficeCollection'] -  b_merged['Budget']) / b_merged['Budget']"
   ]
  },
  {
   "cell_type": "code",
   "execution_count": 313,
   "metadata": {},
   "outputs": [
    {
     "data": {
      "text/html": [
       "<div>\n",
       "<style scoped>\n",
       "    .dataframe tbody tr th:only-of-type {\n",
       "        vertical-align: middle;\n",
       "    }\n",
       "\n",
       "    .dataframe tbody tr th {\n",
       "        vertical-align: top;\n",
       "    }\n",
       "\n",
       "    .dataframe thead th {\n",
       "        text-align: right;\n",
       "    }\n",
       "</style>\n",
       "<table border=\"1\" class=\"dataframe\">\n",
       "  <thead>\n",
       "    <tr style=\"text-align: right;\">\n",
       "      <th></th>\n",
       "      <th>MovieName</th>\n",
       "      <th>ROI</th>\n",
       "    </tr>\n",
       "  </thead>\n",
       "  <tbody>\n",
       "    <tr>\n",
       "      <th>3</th>\n",
       "      <td>Rajdhani Express</td>\n",
       "      <td>53.714286</td>\n",
       "    </tr>\n",
       "    <tr>\n",
       "      <th>14</th>\n",
       "      <td>Aashiqui 2</td>\n",
       "      <td>8.166667</td>\n",
       "    </tr>\n",
       "    <tr>\n",
       "      <th>39</th>\n",
       "      <td>PK</td>\n",
       "      <td>7.647059</td>\n",
       "    </tr>\n",
       "    <tr>\n",
       "      <th>82</th>\n",
       "      <td>Grand Masti</td>\n",
       "      <td>7.514286</td>\n",
       "    </tr>\n",
       "    <tr>\n",
       "      <th>85</th>\n",
       "      <td>The Lunchbox</td>\n",
       "      <td>7.500000</td>\n",
       "    </tr>\n",
       "    <tr>\n",
       "      <th>37</th>\n",
       "      <td>Fukrey</td>\n",
       "      <td>6.240000</td>\n",
       "    </tr>\n",
       "    <tr>\n",
       "      <th>8</th>\n",
       "      <td>Mary Kom</td>\n",
       "      <td>5.933333</td>\n",
       "    </tr>\n",
       "    <tr>\n",
       "      <th>78</th>\n",
       "      <td>Shahid</td>\n",
       "      <td>5.666667</td>\n",
       "    </tr>\n",
       "    <tr>\n",
       "      <th>37</th>\n",
       "      <td>Humpty Sharma Ki Dulhania</td>\n",
       "      <td>5.500000</td>\n",
       "    </tr>\n",
       "    <tr>\n",
       "      <th>51</th>\n",
       "      <td>Bhaag Milkha Bhaag</td>\n",
       "      <td>4.466667</td>\n",
       "    </tr>\n",
       "  </tbody>\n",
       "</table>\n",
       "</div>"
      ],
      "text/plain": [
       "                    MovieName        ROI\n",
       "3            Rajdhani Express  53.714286\n",
       "14                 Aashiqui 2   8.166667\n",
       "39                         PK   7.647059\n",
       "82                Grand Masti   7.514286\n",
       "85               The Lunchbox   7.500000\n",
       "37                     Fukrey   6.240000\n",
       "8                    Mary Kom   5.933333\n",
       "78                     Shahid   5.666667\n",
       "37  Humpty Sharma Ki Dulhania   5.500000\n",
       "51         Bhaag Milkha Bhaag   4.466667"
      ]
     },
     "execution_count": 313,
     "metadata": {},
     "output_type": "execute_result"
    }
   ],
   "source": [
    "b_merged.nlargest(10, 'ROI')[['MovieName', 'ROI']]"
   ]
  },
  {
   "cell_type": "code",
   "execution_count": null,
   "metadata": {},
   "outputs": [],
   "source": []
  }
 ],
 "metadata": {
  "kernelspec": {
   "display_name": "Python 3",
   "language": "python",
   "name": "python3"
  },
  "language_info": {
   "codemirror_mode": {
    "name": "ipython",
    "version": 3
   },
   "file_extension": ".py",
   "mimetype": "text/x-python",
   "name": "python",
   "nbconvert_exporter": "python",
   "pygments_lexer": "ipython3",
   "version": "3.7.6"
  },
  "toc": {
   "base_numbering": 1,
   "nav_menu": {},
   "number_sections": true,
   "sideBar": true,
   "skip_h1_title": false,
   "title_cell": "Table of Contents",
   "title_sidebar": "Contents",
   "toc_cell": false,
   "toc_position": {},
   "toc_section_display": true,
   "toc_window_display": false
  }
 },
 "nbformat": 4,
 "nbformat_minor": 4
}
